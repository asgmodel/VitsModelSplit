{
  "nbformat": 4,
  "nbformat_minor": 0,
  "metadata": {
    "colab": {
      "provenance": []
    },
    "kernelspec": {
      "name": "python3",
      "display_name": "Python 3"
    },
    "language_info": {
      "name": "python"
    },
    "widgets": {
      "application/vnd.jupyter.widget-state+json": {
        "eac0391227e441a99eee6c6d94a2927c": {
          "model_module": "@jupyter-widgets/controls",
          "model_name": "HBoxModel",
          "model_module_version": "1.5.0",
          "state": {
            "_dom_classes": [],
            "_model_module": "@jupyter-widgets/controls",
            "_model_module_version": "1.5.0",
            "_model_name": "HBoxModel",
            "_view_count": null,
            "_view_module": "@jupyter-widgets/controls",
            "_view_module_version": "1.5.0",
            "_view_name": "HBoxView",
            "box_style": "",
            "children": [
              "IPY_MODEL_82c40e5ef1d14858b42b0b7cadef35c6",
              "IPY_MODEL_45667008630c4ace9a9cef11ff7b34eb",
              "IPY_MODEL_ddd8efe18a934c3ea40f170adac7f4c2"
            ],
            "layout": "IPY_MODEL_b89e359afea749b98a807c51aeccca72"
          }
        },
        "82c40e5ef1d14858b42b0b7cadef35c6": {
          "model_module": "@jupyter-widgets/controls",
          "model_name": "HTMLModel",
          "model_module_version": "1.5.0",
          "state": {
            "_dom_classes": [],
            "_model_module": "@jupyter-widgets/controls",
            "_model_module_version": "1.5.0",
            "_model_name": "HTMLModel",
            "_view_count": null,
            "_view_module": "@jupyter-widgets/controls",
            "_view_module_version": "1.5.0",
            "_view_name": "HTMLView",
            "description": "",
            "description_tooltip": null,
            "layout": "IPY_MODEL_3aab57aa03c44f94bcd92d511cd8fcf6",
            "placeholder": "​",
            "style": "IPY_MODEL_64f127b951354c13bfd21b54aa29654c",
            "value": "config.json: 100%"
          }
        },
        "45667008630c4ace9a9cef11ff7b34eb": {
          "model_module": "@jupyter-widgets/controls",
          "model_name": "FloatProgressModel",
          "model_module_version": "1.5.0",
          "state": {
            "_dom_classes": [],
            "_model_module": "@jupyter-widgets/controls",
            "_model_module_version": "1.5.0",
            "_model_name": "FloatProgressModel",
            "_view_count": null,
            "_view_module": "@jupyter-widgets/controls",
            "_view_module_version": "1.5.0",
            "_view_name": "ProgressView",
            "bar_style": "success",
            "description": "",
            "description_tooltip": null,
            "layout": "IPY_MODEL_ee219b6b41f7432abd3b791a7af6ad51",
            "max": 1641,
            "min": 0,
            "orientation": "horizontal",
            "style": "IPY_MODEL_ef790f2cc017476c9b5497258856b672",
            "value": 1641
          }
        },
        "ddd8efe18a934c3ea40f170adac7f4c2": {
          "model_module": "@jupyter-widgets/controls",
          "model_name": "HTMLModel",
          "model_module_version": "1.5.0",
          "state": {
            "_dom_classes": [],
            "_model_module": "@jupyter-widgets/controls",
            "_model_module_version": "1.5.0",
            "_model_name": "HTMLModel",
            "_view_count": null,
            "_view_module": "@jupyter-widgets/controls",
            "_view_module_version": "1.5.0",
            "_view_name": "HTMLView",
            "description": "",
            "description_tooltip": null,
            "layout": "IPY_MODEL_857507240faf44ce9d071ba1d6c55d8e",
            "placeholder": "​",
            "style": "IPY_MODEL_efa937a2594c444db4b14a07ca5ae9fe",
            "value": " 1.64k/1.64k [00:00&lt;00:00, 43.8kB/s]"
          }
        },
        "b89e359afea749b98a807c51aeccca72": {
          "model_module": "@jupyter-widgets/base",
          "model_name": "LayoutModel",
          "model_module_version": "1.2.0",
          "state": {
            "_model_module": "@jupyter-widgets/base",
            "_model_module_version": "1.2.0",
            "_model_name": "LayoutModel",
            "_view_count": null,
            "_view_module": "@jupyter-widgets/base",
            "_view_module_version": "1.2.0",
            "_view_name": "LayoutView",
            "align_content": null,
            "align_items": null,
            "align_self": null,
            "border": null,
            "bottom": null,
            "display": null,
            "flex": null,
            "flex_flow": null,
            "grid_area": null,
            "grid_auto_columns": null,
            "grid_auto_flow": null,
            "grid_auto_rows": null,
            "grid_column": null,
            "grid_gap": null,
            "grid_row": null,
            "grid_template_areas": null,
            "grid_template_columns": null,
            "grid_template_rows": null,
            "height": null,
            "justify_content": null,
            "justify_items": null,
            "left": null,
            "margin": null,
            "max_height": null,
            "max_width": null,
            "min_height": null,
            "min_width": null,
            "object_fit": null,
            "object_position": null,
            "order": null,
            "overflow": null,
            "overflow_x": null,
            "overflow_y": null,
            "padding": null,
            "right": null,
            "top": null,
            "visibility": null,
            "width": null
          }
        },
        "3aab57aa03c44f94bcd92d511cd8fcf6": {
          "model_module": "@jupyter-widgets/base",
          "model_name": "LayoutModel",
          "model_module_version": "1.2.0",
          "state": {
            "_model_module": "@jupyter-widgets/base",
            "_model_module_version": "1.2.0",
            "_model_name": "LayoutModel",
            "_view_count": null,
            "_view_module": "@jupyter-widgets/base",
            "_view_module_version": "1.2.0",
            "_view_name": "LayoutView",
            "align_content": null,
            "align_items": null,
            "align_self": null,
            "border": null,
            "bottom": null,
            "display": null,
            "flex": null,
            "flex_flow": null,
            "grid_area": null,
            "grid_auto_columns": null,
            "grid_auto_flow": null,
            "grid_auto_rows": null,
            "grid_column": null,
            "grid_gap": null,
            "grid_row": null,
            "grid_template_areas": null,
            "grid_template_columns": null,
            "grid_template_rows": null,
            "height": null,
            "justify_content": null,
            "justify_items": null,
            "left": null,
            "margin": null,
            "max_height": null,
            "max_width": null,
            "min_height": null,
            "min_width": null,
            "object_fit": null,
            "object_position": null,
            "order": null,
            "overflow": null,
            "overflow_x": null,
            "overflow_y": null,
            "padding": null,
            "right": null,
            "top": null,
            "visibility": null,
            "width": null
          }
        },
        "64f127b951354c13bfd21b54aa29654c": {
          "model_module": "@jupyter-widgets/controls",
          "model_name": "DescriptionStyleModel",
          "model_module_version": "1.5.0",
          "state": {
            "_model_module": "@jupyter-widgets/controls",
            "_model_module_version": "1.5.0",
            "_model_name": "DescriptionStyleModel",
            "_view_count": null,
            "_view_module": "@jupyter-widgets/base",
            "_view_module_version": "1.2.0",
            "_view_name": "StyleView",
            "description_width": ""
          }
        },
        "ee219b6b41f7432abd3b791a7af6ad51": {
          "model_module": "@jupyter-widgets/base",
          "model_name": "LayoutModel",
          "model_module_version": "1.2.0",
          "state": {
            "_model_module": "@jupyter-widgets/base",
            "_model_module_version": "1.2.0",
            "_model_name": "LayoutModel",
            "_view_count": null,
            "_view_module": "@jupyter-widgets/base",
            "_view_module_version": "1.2.0",
            "_view_name": "LayoutView",
            "align_content": null,
            "align_items": null,
            "align_self": null,
            "border": null,
            "bottom": null,
            "display": null,
            "flex": null,
            "flex_flow": null,
            "grid_area": null,
            "grid_auto_columns": null,
            "grid_auto_flow": null,
            "grid_auto_rows": null,
            "grid_column": null,
            "grid_gap": null,
            "grid_row": null,
            "grid_template_areas": null,
            "grid_template_columns": null,
            "grid_template_rows": null,
            "height": null,
            "justify_content": null,
            "justify_items": null,
            "left": null,
            "margin": null,
            "max_height": null,
            "max_width": null,
            "min_height": null,
            "min_width": null,
            "object_fit": null,
            "object_position": null,
            "order": null,
            "overflow": null,
            "overflow_x": null,
            "overflow_y": null,
            "padding": null,
            "right": null,
            "top": null,
            "visibility": null,
            "width": null
          }
        },
        "ef790f2cc017476c9b5497258856b672": {
          "model_module": "@jupyter-widgets/controls",
          "model_name": "ProgressStyleModel",
          "model_module_version": "1.5.0",
          "state": {
            "_model_module": "@jupyter-widgets/controls",
            "_model_module_version": "1.5.0",
            "_model_name": "ProgressStyleModel",
            "_view_count": null,
            "_view_module": "@jupyter-widgets/base",
            "_view_module_version": "1.2.0",
            "_view_name": "StyleView",
            "bar_color": null,
            "description_width": ""
          }
        },
        "857507240faf44ce9d071ba1d6c55d8e": {
          "model_module": "@jupyter-widgets/base",
          "model_name": "LayoutModel",
          "model_module_version": "1.2.0",
          "state": {
            "_model_module": "@jupyter-widgets/base",
            "_model_module_version": "1.2.0",
            "_model_name": "LayoutModel",
            "_view_count": null,
            "_view_module": "@jupyter-widgets/base",
            "_view_module_version": "1.2.0",
            "_view_name": "LayoutView",
            "align_content": null,
            "align_items": null,
            "align_self": null,
            "border": null,
            "bottom": null,
            "display": null,
            "flex": null,
            "flex_flow": null,
            "grid_area": null,
            "grid_auto_columns": null,
            "grid_auto_flow": null,
            "grid_auto_rows": null,
            "grid_column": null,
            "grid_gap": null,
            "grid_row": null,
            "grid_template_areas": null,
            "grid_template_columns": null,
            "grid_template_rows": null,
            "height": null,
            "justify_content": null,
            "justify_items": null,
            "left": null,
            "margin": null,
            "max_height": null,
            "max_width": null,
            "min_height": null,
            "min_width": null,
            "object_fit": null,
            "object_position": null,
            "order": null,
            "overflow": null,
            "overflow_x": null,
            "overflow_y": null,
            "padding": null,
            "right": null,
            "top": null,
            "visibility": null,
            "width": null
          }
        },
        "efa937a2594c444db4b14a07ca5ae9fe": {
          "model_module": "@jupyter-widgets/controls",
          "model_name": "DescriptionStyleModel",
          "model_module_version": "1.5.0",
          "state": {
            "_model_module": "@jupyter-widgets/controls",
            "_model_module_version": "1.5.0",
            "_model_name": "DescriptionStyleModel",
            "_view_count": null,
            "_view_module": "@jupyter-widgets/base",
            "_view_module_version": "1.2.0",
            "_view_name": "StyleView",
            "description_width": ""
          }
        },
        "51a3af86fba046608b5b9bdbffac9464": {
          "model_module": "@jupyter-widgets/controls",
          "model_name": "HBoxModel",
          "model_module_version": "1.5.0",
          "state": {
            "_dom_classes": [],
            "_model_module": "@jupyter-widgets/controls",
            "_model_module_version": "1.5.0",
            "_model_name": "HBoxModel",
            "_view_count": null,
            "_view_module": "@jupyter-widgets/controls",
            "_view_module_version": "1.5.0",
            "_view_name": "HBoxView",
            "box_style": "",
            "children": [
              "IPY_MODEL_dd4bf04ede6d49ff9cd39aacd1cde25b",
              "IPY_MODEL_13fc627da2084d8c930d2fddd48bc608",
              "IPY_MODEL_62bd268733d94cfda95ba1acfc6970a9"
            ],
            "layout": "IPY_MODEL_fbd21c8c164743439221ca0b0271b841"
          }
        },
        "dd4bf04ede6d49ff9cd39aacd1cde25b": {
          "model_module": "@jupyter-widgets/controls",
          "model_name": "HTMLModel",
          "model_module_version": "1.5.0",
          "state": {
            "_dom_classes": [],
            "_model_module": "@jupyter-widgets/controls",
            "_model_module_version": "1.5.0",
            "_model_name": "HTMLModel",
            "_view_count": null,
            "_view_module": "@jupyter-widgets/controls",
            "_view_module_version": "1.5.0",
            "_view_name": "HTMLView",
            "description": "",
            "description_tooltip": null,
            "layout": "IPY_MODEL_d0268c0da4e94e21a951f39d9624fa11",
            "placeholder": "​",
            "style": "IPY_MODEL_8fe6847420894a469b2baba1c344fdbb",
            "value": "model.safetensors: 100%"
          }
        },
        "13fc627da2084d8c930d2fddd48bc608": {
          "model_module": "@jupyter-widgets/controls",
          "model_name": "FloatProgressModel",
          "model_module_version": "1.5.0",
          "state": {
            "_dom_classes": [],
            "_model_module": "@jupyter-widgets/controls",
            "_model_module_version": "1.5.0",
            "_model_name": "FloatProgressModel",
            "_view_count": null,
            "_view_module": "@jupyter-widgets/controls",
            "_view_module_version": "1.5.0",
            "_view_name": "ProgressView",
            "bar_style": "success",
            "description": "",
            "description_tooltip": null,
            "layout": "IPY_MODEL_7b23ced4bc64484ebe8f807affb7f7cf",
            "max": 145228280,
            "min": 0,
            "orientation": "horizontal",
            "style": "IPY_MODEL_55321eb2947544779e4a9ac2df0dfbf2",
            "value": 145228280
          }
        },
        "62bd268733d94cfda95ba1acfc6970a9": {
          "model_module": "@jupyter-widgets/controls",
          "model_name": "HTMLModel",
          "model_module_version": "1.5.0",
          "state": {
            "_dom_classes": [],
            "_model_module": "@jupyter-widgets/controls",
            "_model_module_version": "1.5.0",
            "_model_name": "HTMLModel",
            "_view_count": null,
            "_view_module": "@jupyter-widgets/controls",
            "_view_module_version": "1.5.0",
            "_view_name": "HTMLView",
            "description": "",
            "description_tooltip": null,
            "layout": "IPY_MODEL_58726356a0764fe886bf04982fdd91b9",
            "placeholder": "​",
            "style": "IPY_MODEL_98059a1d555b45bc8190c188779ad2dc",
            "value": " 145M/145M [00:03&lt;00:00, 47.1MB/s]"
          }
        },
        "fbd21c8c164743439221ca0b0271b841": {
          "model_module": "@jupyter-widgets/base",
          "model_name": "LayoutModel",
          "model_module_version": "1.2.0",
          "state": {
            "_model_module": "@jupyter-widgets/base",
            "_model_module_version": "1.2.0",
            "_model_name": "LayoutModel",
            "_view_count": null,
            "_view_module": "@jupyter-widgets/base",
            "_view_module_version": "1.2.0",
            "_view_name": "LayoutView",
            "align_content": null,
            "align_items": null,
            "align_self": null,
            "border": null,
            "bottom": null,
            "display": null,
            "flex": null,
            "flex_flow": null,
            "grid_area": null,
            "grid_auto_columns": null,
            "grid_auto_flow": null,
            "grid_auto_rows": null,
            "grid_column": null,
            "grid_gap": null,
            "grid_row": null,
            "grid_template_areas": null,
            "grid_template_columns": null,
            "grid_template_rows": null,
            "height": null,
            "justify_content": null,
            "justify_items": null,
            "left": null,
            "margin": null,
            "max_height": null,
            "max_width": null,
            "min_height": null,
            "min_width": null,
            "object_fit": null,
            "object_position": null,
            "order": null,
            "overflow": null,
            "overflow_x": null,
            "overflow_y": null,
            "padding": null,
            "right": null,
            "top": null,
            "visibility": null,
            "width": null
          }
        },
        "d0268c0da4e94e21a951f39d9624fa11": {
          "model_module": "@jupyter-widgets/base",
          "model_name": "LayoutModel",
          "model_module_version": "1.2.0",
          "state": {
            "_model_module": "@jupyter-widgets/base",
            "_model_module_version": "1.2.0",
            "_model_name": "LayoutModel",
            "_view_count": null,
            "_view_module": "@jupyter-widgets/base",
            "_view_module_version": "1.2.0",
            "_view_name": "LayoutView",
            "align_content": null,
            "align_items": null,
            "align_self": null,
            "border": null,
            "bottom": null,
            "display": null,
            "flex": null,
            "flex_flow": null,
            "grid_area": null,
            "grid_auto_columns": null,
            "grid_auto_flow": null,
            "grid_auto_rows": null,
            "grid_column": null,
            "grid_gap": null,
            "grid_row": null,
            "grid_template_areas": null,
            "grid_template_columns": null,
            "grid_template_rows": null,
            "height": null,
            "justify_content": null,
            "justify_items": null,
            "left": null,
            "margin": null,
            "max_height": null,
            "max_width": null,
            "min_height": null,
            "min_width": null,
            "object_fit": null,
            "object_position": null,
            "order": null,
            "overflow": null,
            "overflow_x": null,
            "overflow_y": null,
            "padding": null,
            "right": null,
            "top": null,
            "visibility": null,
            "width": null
          }
        },
        "8fe6847420894a469b2baba1c344fdbb": {
          "model_module": "@jupyter-widgets/controls",
          "model_name": "DescriptionStyleModel",
          "model_module_version": "1.5.0",
          "state": {
            "_model_module": "@jupyter-widgets/controls",
            "_model_module_version": "1.5.0",
            "_model_name": "DescriptionStyleModel",
            "_view_count": null,
            "_view_module": "@jupyter-widgets/base",
            "_view_module_version": "1.2.0",
            "_view_name": "StyleView",
            "description_width": ""
          }
        },
        "7b23ced4bc64484ebe8f807affb7f7cf": {
          "model_module": "@jupyter-widgets/base",
          "model_name": "LayoutModel",
          "model_module_version": "1.2.0",
          "state": {
            "_model_module": "@jupyter-widgets/base",
            "_model_module_version": "1.2.0",
            "_model_name": "LayoutModel",
            "_view_count": null,
            "_view_module": "@jupyter-widgets/base",
            "_view_module_version": "1.2.0",
            "_view_name": "LayoutView",
            "align_content": null,
            "align_items": null,
            "align_self": null,
            "border": null,
            "bottom": null,
            "display": null,
            "flex": null,
            "flex_flow": null,
            "grid_area": null,
            "grid_auto_columns": null,
            "grid_auto_flow": null,
            "grid_auto_rows": null,
            "grid_column": null,
            "grid_gap": null,
            "grid_row": null,
            "grid_template_areas": null,
            "grid_template_columns": null,
            "grid_template_rows": null,
            "height": null,
            "justify_content": null,
            "justify_items": null,
            "left": null,
            "margin": null,
            "max_height": null,
            "max_width": null,
            "min_height": null,
            "min_width": null,
            "object_fit": null,
            "object_position": null,
            "order": null,
            "overflow": null,
            "overflow_x": null,
            "overflow_y": null,
            "padding": null,
            "right": null,
            "top": null,
            "visibility": null,
            "width": null
          }
        },
        "55321eb2947544779e4a9ac2df0dfbf2": {
          "model_module": "@jupyter-widgets/controls",
          "model_name": "ProgressStyleModel",
          "model_module_version": "1.5.0",
          "state": {
            "_model_module": "@jupyter-widgets/controls",
            "_model_module_version": "1.5.0",
            "_model_name": "ProgressStyleModel",
            "_view_count": null,
            "_view_module": "@jupyter-widgets/base",
            "_view_module_version": "1.2.0",
            "_view_name": "StyleView",
            "bar_color": null,
            "description_width": ""
          }
        },
        "58726356a0764fe886bf04982fdd91b9": {
          "model_module": "@jupyter-widgets/base",
          "model_name": "LayoutModel",
          "model_module_version": "1.2.0",
          "state": {
            "_model_module": "@jupyter-widgets/base",
            "_model_module_version": "1.2.0",
            "_model_name": "LayoutModel",
            "_view_count": null,
            "_view_module": "@jupyter-widgets/base",
            "_view_module_version": "1.2.0",
            "_view_name": "LayoutView",
            "align_content": null,
            "align_items": null,
            "align_self": null,
            "border": null,
            "bottom": null,
            "display": null,
            "flex": null,
            "flex_flow": null,
            "grid_area": null,
            "grid_auto_columns": null,
            "grid_auto_flow": null,
            "grid_auto_rows": null,
            "grid_column": null,
            "grid_gap": null,
            "grid_row": null,
            "grid_template_areas": null,
            "grid_template_columns": null,
            "grid_template_rows": null,
            "height": null,
            "justify_content": null,
            "justify_items": null,
            "left": null,
            "margin": null,
            "max_height": null,
            "max_width": null,
            "min_height": null,
            "min_width": null,
            "object_fit": null,
            "object_position": null,
            "order": null,
            "overflow": null,
            "overflow_x": null,
            "overflow_y": null,
            "padding": null,
            "right": null,
            "top": null,
            "visibility": null,
            "width": null
          }
        },
        "98059a1d555b45bc8190c188779ad2dc": {
          "model_module": "@jupyter-widgets/controls",
          "model_name": "DescriptionStyleModel",
          "model_module_version": "1.5.0",
          "state": {
            "_model_module": "@jupyter-widgets/controls",
            "_model_module_version": "1.5.0",
            "_model_name": "DescriptionStyleModel",
            "_view_count": null,
            "_view_module": "@jupyter-widgets/base",
            "_view_module_version": "1.2.0",
            "_view_name": "StyleView",
            "description_width": ""
          }
        },
        "888b4bf9b9544e99a3a0d69a95fd6e20": {
          "model_module": "@jupyter-widgets/controls",
          "model_name": "HBoxModel",
          "model_module_version": "1.5.0",
          "state": {
            "_dom_classes": [],
            "_model_module": "@jupyter-widgets/controls",
            "_model_module_version": "1.5.0",
            "_model_name": "HBoxModel",
            "_view_count": null,
            "_view_module": "@jupyter-widgets/controls",
            "_view_module_version": "1.5.0",
            "_view_name": "HBoxView",
            "box_style": "",
            "children": [
              "IPY_MODEL_367b2a8d344846019586a8b9cb20f933",
              "IPY_MODEL_53c324316fd5477e87fcad91b5276296",
              "IPY_MODEL_317c9937d32841fb8868350117a033b8"
            ],
            "layout": "IPY_MODEL_92ab245524a14ff7accde01b9e1f6b37"
          }
        },
        "367b2a8d344846019586a8b9cb20f933": {
          "model_module": "@jupyter-widgets/controls",
          "model_name": "HTMLModel",
          "model_module_version": "1.5.0",
          "state": {
            "_dom_classes": [],
            "_model_module": "@jupyter-widgets/controls",
            "_model_module_version": "1.5.0",
            "_model_name": "HTMLModel",
            "_view_count": null,
            "_view_module": "@jupyter-widgets/controls",
            "_view_module_version": "1.5.0",
            "_view_name": "HTMLView",
            "description": "",
            "description_tooltip": null,
            "layout": "IPY_MODEL_6617dacb899e4bcf993d690b81b047ca",
            "placeholder": "​",
            "style": "IPY_MODEL_9d2045c1948c4e879dd4d6f56460a946",
            "value": "tokenizer_config.json: 100%"
          }
        },
        "53c324316fd5477e87fcad91b5276296": {
          "model_module": "@jupyter-widgets/controls",
          "model_name": "FloatProgressModel",
          "model_module_version": "1.5.0",
          "state": {
            "_dom_classes": [],
            "_model_module": "@jupyter-widgets/controls",
            "_model_module_version": "1.5.0",
            "_model_name": "FloatProgressModel",
            "_view_count": null,
            "_view_module": "@jupyter-widgets/controls",
            "_view_module_version": "1.5.0",
            "_view_name": "ProgressView",
            "bar_style": "success",
            "description": "",
            "description_tooltip": null,
            "layout": "IPY_MODEL_0326380ef5874cacbe5cb1b38eee655f",
            "max": 288,
            "min": 0,
            "orientation": "horizontal",
            "style": "IPY_MODEL_e9bd9031086c4d4a94722da7712b31b3",
            "value": 288
          }
        },
        "317c9937d32841fb8868350117a033b8": {
          "model_module": "@jupyter-widgets/controls",
          "model_name": "HTMLModel",
          "model_module_version": "1.5.0",
          "state": {
            "_dom_classes": [],
            "_model_module": "@jupyter-widgets/controls",
            "_model_module_version": "1.5.0",
            "_model_name": "HTMLModel",
            "_view_count": null,
            "_view_module": "@jupyter-widgets/controls",
            "_view_module_version": "1.5.0",
            "_view_name": "HTMLView",
            "description": "",
            "description_tooltip": null,
            "layout": "IPY_MODEL_9f9e957c9a214df69cfed96524d96949",
            "placeholder": "​",
            "style": "IPY_MODEL_26a97909bfe54cf59b01be61f55be95d",
            "value": " 288/288 [00:00&lt;00:00, 20.9kB/s]"
          }
        },
        "92ab245524a14ff7accde01b9e1f6b37": {
          "model_module": "@jupyter-widgets/base",
          "model_name": "LayoutModel",
          "model_module_version": "1.2.0",
          "state": {
            "_model_module": "@jupyter-widgets/base",
            "_model_module_version": "1.2.0",
            "_model_name": "LayoutModel",
            "_view_count": null,
            "_view_module": "@jupyter-widgets/base",
            "_view_module_version": "1.2.0",
            "_view_name": "LayoutView",
            "align_content": null,
            "align_items": null,
            "align_self": null,
            "border": null,
            "bottom": null,
            "display": null,
            "flex": null,
            "flex_flow": null,
            "grid_area": null,
            "grid_auto_columns": null,
            "grid_auto_flow": null,
            "grid_auto_rows": null,
            "grid_column": null,
            "grid_gap": null,
            "grid_row": null,
            "grid_template_areas": null,
            "grid_template_columns": null,
            "grid_template_rows": null,
            "height": null,
            "justify_content": null,
            "justify_items": null,
            "left": null,
            "margin": null,
            "max_height": null,
            "max_width": null,
            "min_height": null,
            "min_width": null,
            "object_fit": null,
            "object_position": null,
            "order": null,
            "overflow": null,
            "overflow_x": null,
            "overflow_y": null,
            "padding": null,
            "right": null,
            "top": null,
            "visibility": null,
            "width": null
          }
        },
        "6617dacb899e4bcf993d690b81b047ca": {
          "model_module": "@jupyter-widgets/base",
          "model_name": "LayoutModel",
          "model_module_version": "1.2.0",
          "state": {
            "_model_module": "@jupyter-widgets/base",
            "_model_module_version": "1.2.0",
            "_model_name": "LayoutModel",
            "_view_count": null,
            "_view_module": "@jupyter-widgets/base",
            "_view_module_version": "1.2.0",
            "_view_name": "LayoutView",
            "align_content": null,
            "align_items": null,
            "align_self": null,
            "border": null,
            "bottom": null,
            "display": null,
            "flex": null,
            "flex_flow": null,
            "grid_area": null,
            "grid_auto_columns": null,
            "grid_auto_flow": null,
            "grid_auto_rows": null,
            "grid_column": null,
            "grid_gap": null,
            "grid_row": null,
            "grid_template_areas": null,
            "grid_template_columns": null,
            "grid_template_rows": null,
            "height": null,
            "justify_content": null,
            "justify_items": null,
            "left": null,
            "margin": null,
            "max_height": null,
            "max_width": null,
            "min_height": null,
            "min_width": null,
            "object_fit": null,
            "object_position": null,
            "order": null,
            "overflow": null,
            "overflow_x": null,
            "overflow_y": null,
            "padding": null,
            "right": null,
            "top": null,
            "visibility": null,
            "width": null
          }
        },
        "9d2045c1948c4e879dd4d6f56460a946": {
          "model_module": "@jupyter-widgets/controls",
          "model_name": "DescriptionStyleModel",
          "model_module_version": "1.5.0",
          "state": {
            "_model_module": "@jupyter-widgets/controls",
            "_model_module_version": "1.5.0",
            "_model_name": "DescriptionStyleModel",
            "_view_count": null,
            "_view_module": "@jupyter-widgets/base",
            "_view_module_version": "1.2.0",
            "_view_name": "StyleView",
            "description_width": ""
          }
        },
        "0326380ef5874cacbe5cb1b38eee655f": {
          "model_module": "@jupyter-widgets/base",
          "model_name": "LayoutModel",
          "model_module_version": "1.2.0",
          "state": {
            "_model_module": "@jupyter-widgets/base",
            "_model_module_version": "1.2.0",
            "_model_name": "LayoutModel",
            "_view_count": null,
            "_view_module": "@jupyter-widgets/base",
            "_view_module_version": "1.2.0",
            "_view_name": "LayoutView",
            "align_content": null,
            "align_items": null,
            "align_self": null,
            "border": null,
            "bottom": null,
            "display": null,
            "flex": null,
            "flex_flow": null,
            "grid_area": null,
            "grid_auto_columns": null,
            "grid_auto_flow": null,
            "grid_auto_rows": null,
            "grid_column": null,
            "grid_gap": null,
            "grid_row": null,
            "grid_template_areas": null,
            "grid_template_columns": null,
            "grid_template_rows": null,
            "height": null,
            "justify_content": null,
            "justify_items": null,
            "left": null,
            "margin": null,
            "max_height": null,
            "max_width": null,
            "min_height": null,
            "min_width": null,
            "object_fit": null,
            "object_position": null,
            "order": null,
            "overflow": null,
            "overflow_x": null,
            "overflow_y": null,
            "padding": null,
            "right": null,
            "top": null,
            "visibility": null,
            "width": null
          }
        },
        "e9bd9031086c4d4a94722da7712b31b3": {
          "model_module": "@jupyter-widgets/controls",
          "model_name": "ProgressStyleModel",
          "model_module_version": "1.5.0",
          "state": {
            "_model_module": "@jupyter-widgets/controls",
            "_model_module_version": "1.5.0",
            "_model_name": "ProgressStyleModel",
            "_view_count": null,
            "_view_module": "@jupyter-widgets/base",
            "_view_module_version": "1.2.0",
            "_view_name": "StyleView",
            "bar_color": null,
            "description_width": ""
          }
        },
        "9f9e957c9a214df69cfed96524d96949": {
          "model_module": "@jupyter-widgets/base",
          "model_name": "LayoutModel",
          "model_module_version": "1.2.0",
          "state": {
            "_model_module": "@jupyter-widgets/base",
            "_model_module_version": "1.2.0",
            "_model_name": "LayoutModel",
            "_view_count": null,
            "_view_module": "@jupyter-widgets/base",
            "_view_module_version": "1.2.0",
            "_view_name": "LayoutView",
            "align_content": null,
            "align_items": null,
            "align_self": null,
            "border": null,
            "bottom": null,
            "display": null,
            "flex": null,
            "flex_flow": null,
            "grid_area": null,
            "grid_auto_columns": null,
            "grid_auto_flow": null,
            "grid_auto_rows": null,
            "grid_column": null,
            "grid_gap": null,
            "grid_row": null,
            "grid_template_areas": null,
            "grid_template_columns": null,
            "grid_template_rows": null,
            "height": null,
            "justify_content": null,
            "justify_items": null,
            "left": null,
            "margin": null,
            "max_height": null,
            "max_width": null,
            "min_height": null,
            "min_width": null,
            "object_fit": null,
            "object_position": null,
            "order": null,
            "overflow": null,
            "overflow_x": null,
            "overflow_y": null,
            "padding": null,
            "right": null,
            "top": null,
            "visibility": null,
            "width": null
          }
        },
        "26a97909bfe54cf59b01be61f55be95d": {
          "model_module": "@jupyter-widgets/controls",
          "model_name": "DescriptionStyleModel",
          "model_module_version": "1.5.0",
          "state": {
            "_model_module": "@jupyter-widgets/controls",
            "_model_module_version": "1.5.0",
            "_model_name": "DescriptionStyleModel",
            "_view_count": null,
            "_view_module": "@jupyter-widgets/base",
            "_view_module_version": "1.2.0",
            "_view_name": "StyleView",
            "description_width": ""
          }
        },
        "ca5e436b1d8745a1a4d8f5c30c8f49c4": {
          "model_module": "@jupyter-widgets/controls",
          "model_name": "HBoxModel",
          "model_module_version": "1.5.0",
          "state": {
            "_dom_classes": [],
            "_model_module": "@jupyter-widgets/controls",
            "_model_module_version": "1.5.0",
            "_model_name": "HBoxModel",
            "_view_count": null,
            "_view_module": "@jupyter-widgets/controls",
            "_view_module_version": "1.5.0",
            "_view_name": "HBoxView",
            "box_style": "",
            "children": [
              "IPY_MODEL_71b8a2f21f994df7b9202fce231ce1ee",
              "IPY_MODEL_e08ef90bd97d442e8353ea70d5b05e59",
              "IPY_MODEL_b061c55d3e104186bdebb37129ee6ee0"
            ],
            "layout": "IPY_MODEL_29991798eb3e4bdd879604369b45dae6"
          }
        },
        "71b8a2f21f994df7b9202fce231ce1ee": {
          "model_module": "@jupyter-widgets/controls",
          "model_name": "HTMLModel",
          "model_module_version": "1.5.0",
          "state": {
            "_dom_classes": [],
            "_model_module": "@jupyter-widgets/controls",
            "_model_module_version": "1.5.0",
            "_model_name": "HTMLModel",
            "_view_count": null,
            "_view_module": "@jupyter-widgets/controls",
            "_view_module_version": "1.5.0",
            "_view_name": "HTMLView",
            "description": "",
            "description_tooltip": null,
            "layout": "IPY_MODEL_1c68ff2d399943cdaa3f798a609a801c",
            "placeholder": "​",
            "style": "IPY_MODEL_9a3f632980d049bc842e7950f3743e18",
            "value": "vocab.json: 100%"
          }
        },
        "e08ef90bd97d442e8353ea70d5b05e59": {
          "model_module": "@jupyter-widgets/controls",
          "model_name": "FloatProgressModel",
          "model_module_version": "1.5.0",
          "state": {
            "_dom_classes": [],
            "_model_module": "@jupyter-widgets/controls",
            "_model_module_version": "1.5.0",
            "_model_name": "FloatProgressModel",
            "_view_count": null,
            "_view_module": "@jupyter-widgets/controls",
            "_view_module_version": "1.5.0",
            "_view_name": "ProgressView",
            "bar_style": "success",
            "description": "",
            "description_tooltip": null,
            "layout": "IPY_MODEL_4a627a1b247046e08b2d1964dff554ae",
            "max": 460,
            "min": 0,
            "orientation": "horizontal",
            "style": "IPY_MODEL_4a3a207595034196a855fbb155e5b10a",
            "value": 460
          }
        },
        "b061c55d3e104186bdebb37129ee6ee0": {
          "model_module": "@jupyter-widgets/controls",
          "model_name": "HTMLModel",
          "model_module_version": "1.5.0",
          "state": {
            "_dom_classes": [],
            "_model_module": "@jupyter-widgets/controls",
            "_model_module_version": "1.5.0",
            "_model_name": "HTMLModel",
            "_view_count": null,
            "_view_module": "@jupyter-widgets/controls",
            "_view_module_version": "1.5.0",
            "_view_name": "HTMLView",
            "description": "",
            "description_tooltip": null,
            "layout": "IPY_MODEL_1a0103904823430a9559165beb087ced",
            "placeholder": "​",
            "style": "IPY_MODEL_c0f126baa30f48889a57a162ad892c0e",
            "value": " 460/460 [00:00&lt;00:00, 21.8kB/s]"
          }
        },
        "29991798eb3e4bdd879604369b45dae6": {
          "model_module": "@jupyter-widgets/base",
          "model_name": "LayoutModel",
          "model_module_version": "1.2.0",
          "state": {
            "_model_module": "@jupyter-widgets/base",
            "_model_module_version": "1.2.0",
            "_model_name": "LayoutModel",
            "_view_count": null,
            "_view_module": "@jupyter-widgets/base",
            "_view_module_version": "1.2.0",
            "_view_name": "LayoutView",
            "align_content": null,
            "align_items": null,
            "align_self": null,
            "border": null,
            "bottom": null,
            "display": null,
            "flex": null,
            "flex_flow": null,
            "grid_area": null,
            "grid_auto_columns": null,
            "grid_auto_flow": null,
            "grid_auto_rows": null,
            "grid_column": null,
            "grid_gap": null,
            "grid_row": null,
            "grid_template_areas": null,
            "grid_template_columns": null,
            "grid_template_rows": null,
            "height": null,
            "justify_content": null,
            "justify_items": null,
            "left": null,
            "margin": null,
            "max_height": null,
            "max_width": null,
            "min_height": null,
            "min_width": null,
            "object_fit": null,
            "object_position": null,
            "order": null,
            "overflow": null,
            "overflow_x": null,
            "overflow_y": null,
            "padding": null,
            "right": null,
            "top": null,
            "visibility": null,
            "width": null
          }
        },
        "1c68ff2d399943cdaa3f798a609a801c": {
          "model_module": "@jupyter-widgets/base",
          "model_name": "LayoutModel",
          "model_module_version": "1.2.0",
          "state": {
            "_model_module": "@jupyter-widgets/base",
            "_model_module_version": "1.2.0",
            "_model_name": "LayoutModel",
            "_view_count": null,
            "_view_module": "@jupyter-widgets/base",
            "_view_module_version": "1.2.0",
            "_view_name": "LayoutView",
            "align_content": null,
            "align_items": null,
            "align_self": null,
            "border": null,
            "bottom": null,
            "display": null,
            "flex": null,
            "flex_flow": null,
            "grid_area": null,
            "grid_auto_columns": null,
            "grid_auto_flow": null,
            "grid_auto_rows": null,
            "grid_column": null,
            "grid_gap": null,
            "grid_row": null,
            "grid_template_areas": null,
            "grid_template_columns": null,
            "grid_template_rows": null,
            "height": null,
            "justify_content": null,
            "justify_items": null,
            "left": null,
            "margin": null,
            "max_height": null,
            "max_width": null,
            "min_height": null,
            "min_width": null,
            "object_fit": null,
            "object_position": null,
            "order": null,
            "overflow": null,
            "overflow_x": null,
            "overflow_y": null,
            "padding": null,
            "right": null,
            "top": null,
            "visibility": null,
            "width": null
          }
        },
        "9a3f632980d049bc842e7950f3743e18": {
          "model_module": "@jupyter-widgets/controls",
          "model_name": "DescriptionStyleModel",
          "model_module_version": "1.5.0",
          "state": {
            "_model_module": "@jupyter-widgets/controls",
            "_model_module_version": "1.5.0",
            "_model_name": "DescriptionStyleModel",
            "_view_count": null,
            "_view_module": "@jupyter-widgets/base",
            "_view_module_version": "1.2.0",
            "_view_name": "StyleView",
            "description_width": ""
          }
        },
        "4a627a1b247046e08b2d1964dff554ae": {
          "model_module": "@jupyter-widgets/base",
          "model_name": "LayoutModel",
          "model_module_version": "1.2.0",
          "state": {
            "_model_module": "@jupyter-widgets/base",
            "_model_module_version": "1.2.0",
            "_model_name": "LayoutModel",
            "_view_count": null,
            "_view_module": "@jupyter-widgets/base",
            "_view_module_version": "1.2.0",
            "_view_name": "LayoutView",
            "align_content": null,
            "align_items": null,
            "align_self": null,
            "border": null,
            "bottom": null,
            "display": null,
            "flex": null,
            "flex_flow": null,
            "grid_area": null,
            "grid_auto_columns": null,
            "grid_auto_flow": null,
            "grid_auto_rows": null,
            "grid_column": null,
            "grid_gap": null,
            "grid_row": null,
            "grid_template_areas": null,
            "grid_template_columns": null,
            "grid_template_rows": null,
            "height": null,
            "justify_content": null,
            "justify_items": null,
            "left": null,
            "margin": null,
            "max_height": null,
            "max_width": null,
            "min_height": null,
            "min_width": null,
            "object_fit": null,
            "object_position": null,
            "order": null,
            "overflow": null,
            "overflow_x": null,
            "overflow_y": null,
            "padding": null,
            "right": null,
            "top": null,
            "visibility": null,
            "width": null
          }
        },
        "4a3a207595034196a855fbb155e5b10a": {
          "model_module": "@jupyter-widgets/controls",
          "model_name": "ProgressStyleModel",
          "model_module_version": "1.5.0",
          "state": {
            "_model_module": "@jupyter-widgets/controls",
            "_model_module_version": "1.5.0",
            "_model_name": "ProgressStyleModel",
            "_view_count": null,
            "_view_module": "@jupyter-widgets/base",
            "_view_module_version": "1.2.0",
            "_view_name": "StyleView",
            "bar_color": null,
            "description_width": ""
          }
        },
        "1a0103904823430a9559165beb087ced": {
          "model_module": "@jupyter-widgets/base",
          "model_name": "LayoutModel",
          "model_module_version": "1.2.0",
          "state": {
            "_model_module": "@jupyter-widgets/base",
            "_model_module_version": "1.2.0",
            "_model_name": "LayoutModel",
            "_view_count": null,
            "_view_module": "@jupyter-widgets/base",
            "_view_module_version": "1.2.0",
            "_view_name": "LayoutView",
            "align_content": null,
            "align_items": null,
            "align_self": null,
            "border": null,
            "bottom": null,
            "display": null,
            "flex": null,
            "flex_flow": null,
            "grid_area": null,
            "grid_auto_columns": null,
            "grid_auto_flow": null,
            "grid_auto_rows": null,
            "grid_column": null,
            "grid_gap": null,
            "grid_row": null,
            "grid_template_areas": null,
            "grid_template_columns": null,
            "grid_template_rows": null,
            "height": null,
            "justify_content": null,
            "justify_items": null,
            "left": null,
            "margin": null,
            "max_height": null,
            "max_width": null,
            "min_height": null,
            "min_width": null,
            "object_fit": null,
            "object_position": null,
            "order": null,
            "overflow": null,
            "overflow_x": null,
            "overflow_y": null,
            "padding": null,
            "right": null,
            "top": null,
            "visibility": null,
            "width": null
          }
        },
        "c0f126baa30f48889a57a162ad892c0e": {
          "model_module": "@jupyter-widgets/controls",
          "model_name": "DescriptionStyleModel",
          "model_module_version": "1.5.0",
          "state": {
            "_model_module": "@jupyter-widgets/controls",
            "_model_module_version": "1.5.0",
            "_model_name": "DescriptionStyleModel",
            "_view_count": null,
            "_view_module": "@jupyter-widgets/base",
            "_view_module_version": "1.2.0",
            "_view_name": "StyleView",
            "description_width": ""
          }
        },
        "b3a0576bf84343ec951e698440f4e3ea": {
          "model_module": "@jupyter-widgets/controls",
          "model_name": "HBoxModel",
          "model_module_version": "1.5.0",
          "state": {
            "_dom_classes": [],
            "_model_module": "@jupyter-widgets/controls",
            "_model_module_version": "1.5.0",
            "_model_name": "HBoxModel",
            "_view_count": null,
            "_view_module": "@jupyter-widgets/controls",
            "_view_module_version": "1.5.0",
            "_view_name": "HBoxView",
            "box_style": "",
            "children": [
              "IPY_MODEL_99f5b358280d443b899ac310278b9100",
              "IPY_MODEL_09909acaa4f94ec2b1aa26e93a9c91ac",
              "IPY_MODEL_46ec3a4148274275ad62937de4df8fa6"
            ],
            "layout": "IPY_MODEL_a3498ad9aff94710b19d7be0904b602c"
          }
        },
        "99f5b358280d443b899ac310278b9100": {
          "model_module": "@jupyter-widgets/controls",
          "model_name": "HTMLModel",
          "model_module_version": "1.5.0",
          "state": {
            "_dom_classes": [],
            "_model_module": "@jupyter-widgets/controls",
            "_model_module_version": "1.5.0",
            "_model_name": "HTMLModel",
            "_view_count": null,
            "_view_module": "@jupyter-widgets/controls",
            "_view_module_version": "1.5.0",
            "_view_name": "HTMLView",
            "description": "",
            "description_tooltip": null,
            "layout": "IPY_MODEL_4cada97012d749749560191a490830cf",
            "placeholder": "​",
            "style": "IPY_MODEL_4fb63d4b261742db931f81281cacd005",
            "value": "special_tokens_map.json: 100%"
          }
        },
        "09909acaa4f94ec2b1aa26e93a9c91ac": {
          "model_module": "@jupyter-widgets/controls",
          "model_name": "FloatProgressModel",
          "model_module_version": "1.5.0",
          "state": {
            "_dom_classes": [],
            "_model_module": "@jupyter-widgets/controls",
            "_model_module_version": "1.5.0",
            "_model_name": "FloatProgressModel",
            "_view_count": null,
            "_view_module": "@jupyter-widgets/controls",
            "_view_module_version": "1.5.0",
            "_view_name": "ProgressView",
            "bar_style": "success",
            "description": "",
            "description_tooltip": null,
            "layout": "IPY_MODEL_61ca1e31b3844e3ba157756535afd51f",
            "max": 48,
            "min": 0,
            "orientation": "horizontal",
            "style": "IPY_MODEL_5973aa85bf51494d96879439913d7626",
            "value": 48
          }
        },
        "46ec3a4148274275ad62937de4df8fa6": {
          "model_module": "@jupyter-widgets/controls",
          "model_name": "HTMLModel",
          "model_module_version": "1.5.0",
          "state": {
            "_dom_classes": [],
            "_model_module": "@jupyter-widgets/controls",
            "_model_module_version": "1.5.0",
            "_model_name": "HTMLModel",
            "_view_count": null,
            "_view_module": "@jupyter-widgets/controls",
            "_view_module_version": "1.5.0",
            "_view_name": "HTMLView",
            "description": "",
            "description_tooltip": null,
            "layout": "IPY_MODEL_133c686333b9482ca72501cf2982cd80",
            "placeholder": "​",
            "style": "IPY_MODEL_6d64bd3d8d934290877d41d85841f141",
            "value": " 48.0/48.0 [00:00&lt;00:00, 2.63kB/s]"
          }
        },
        "a3498ad9aff94710b19d7be0904b602c": {
          "model_module": "@jupyter-widgets/base",
          "model_name": "LayoutModel",
          "model_module_version": "1.2.0",
          "state": {
            "_model_module": "@jupyter-widgets/base",
            "_model_module_version": "1.2.0",
            "_model_name": "LayoutModel",
            "_view_count": null,
            "_view_module": "@jupyter-widgets/base",
            "_view_module_version": "1.2.0",
            "_view_name": "LayoutView",
            "align_content": null,
            "align_items": null,
            "align_self": null,
            "border": null,
            "bottom": null,
            "display": null,
            "flex": null,
            "flex_flow": null,
            "grid_area": null,
            "grid_auto_columns": null,
            "grid_auto_flow": null,
            "grid_auto_rows": null,
            "grid_column": null,
            "grid_gap": null,
            "grid_row": null,
            "grid_template_areas": null,
            "grid_template_columns": null,
            "grid_template_rows": null,
            "height": null,
            "justify_content": null,
            "justify_items": null,
            "left": null,
            "margin": null,
            "max_height": null,
            "max_width": null,
            "min_height": null,
            "min_width": null,
            "object_fit": null,
            "object_position": null,
            "order": null,
            "overflow": null,
            "overflow_x": null,
            "overflow_y": null,
            "padding": null,
            "right": null,
            "top": null,
            "visibility": null,
            "width": null
          }
        },
        "4cada97012d749749560191a490830cf": {
          "model_module": "@jupyter-widgets/base",
          "model_name": "LayoutModel",
          "model_module_version": "1.2.0",
          "state": {
            "_model_module": "@jupyter-widgets/base",
            "_model_module_version": "1.2.0",
            "_model_name": "LayoutModel",
            "_view_count": null,
            "_view_module": "@jupyter-widgets/base",
            "_view_module_version": "1.2.0",
            "_view_name": "LayoutView",
            "align_content": null,
            "align_items": null,
            "align_self": null,
            "border": null,
            "bottom": null,
            "display": null,
            "flex": null,
            "flex_flow": null,
            "grid_area": null,
            "grid_auto_columns": null,
            "grid_auto_flow": null,
            "grid_auto_rows": null,
            "grid_column": null,
            "grid_gap": null,
            "grid_row": null,
            "grid_template_areas": null,
            "grid_template_columns": null,
            "grid_template_rows": null,
            "height": null,
            "justify_content": null,
            "justify_items": null,
            "left": null,
            "margin": null,
            "max_height": null,
            "max_width": null,
            "min_height": null,
            "min_width": null,
            "object_fit": null,
            "object_position": null,
            "order": null,
            "overflow": null,
            "overflow_x": null,
            "overflow_y": null,
            "padding": null,
            "right": null,
            "top": null,
            "visibility": null,
            "width": null
          }
        },
        "4fb63d4b261742db931f81281cacd005": {
          "model_module": "@jupyter-widgets/controls",
          "model_name": "DescriptionStyleModel",
          "model_module_version": "1.5.0",
          "state": {
            "_model_module": "@jupyter-widgets/controls",
            "_model_module_version": "1.5.0",
            "_model_name": "DescriptionStyleModel",
            "_view_count": null,
            "_view_module": "@jupyter-widgets/base",
            "_view_module_version": "1.2.0",
            "_view_name": "StyleView",
            "description_width": ""
          }
        },
        "61ca1e31b3844e3ba157756535afd51f": {
          "model_module": "@jupyter-widgets/base",
          "model_name": "LayoutModel",
          "model_module_version": "1.2.0",
          "state": {
            "_model_module": "@jupyter-widgets/base",
            "_model_module_version": "1.2.0",
            "_model_name": "LayoutModel",
            "_view_count": null,
            "_view_module": "@jupyter-widgets/base",
            "_view_module_version": "1.2.0",
            "_view_name": "LayoutView",
            "align_content": null,
            "align_items": null,
            "align_self": null,
            "border": null,
            "bottom": null,
            "display": null,
            "flex": null,
            "flex_flow": null,
            "grid_area": null,
            "grid_auto_columns": null,
            "grid_auto_flow": null,
            "grid_auto_rows": null,
            "grid_column": null,
            "grid_gap": null,
            "grid_row": null,
            "grid_template_areas": null,
            "grid_template_columns": null,
            "grid_template_rows": null,
            "height": null,
            "justify_content": null,
            "justify_items": null,
            "left": null,
            "margin": null,
            "max_height": null,
            "max_width": null,
            "min_height": null,
            "min_width": null,
            "object_fit": null,
            "object_position": null,
            "order": null,
            "overflow": null,
            "overflow_x": null,
            "overflow_y": null,
            "padding": null,
            "right": null,
            "top": null,
            "visibility": null,
            "width": null
          }
        },
        "5973aa85bf51494d96879439913d7626": {
          "model_module": "@jupyter-widgets/controls",
          "model_name": "ProgressStyleModel",
          "model_module_version": "1.5.0",
          "state": {
            "_model_module": "@jupyter-widgets/controls",
            "_model_module_version": "1.5.0",
            "_model_name": "ProgressStyleModel",
            "_view_count": null,
            "_view_module": "@jupyter-widgets/base",
            "_view_module_version": "1.2.0",
            "_view_name": "StyleView",
            "bar_color": null,
            "description_width": ""
          }
        },
        "133c686333b9482ca72501cf2982cd80": {
          "model_module": "@jupyter-widgets/base",
          "model_name": "LayoutModel",
          "model_module_version": "1.2.0",
          "state": {
            "_model_module": "@jupyter-widgets/base",
            "_model_module_version": "1.2.0",
            "_model_name": "LayoutModel",
            "_view_count": null,
            "_view_module": "@jupyter-widgets/base",
            "_view_module_version": "1.2.0",
            "_view_name": "LayoutView",
            "align_content": null,
            "align_items": null,
            "align_self": null,
            "border": null,
            "bottom": null,
            "display": null,
            "flex": null,
            "flex_flow": null,
            "grid_area": null,
            "grid_auto_columns": null,
            "grid_auto_flow": null,
            "grid_auto_rows": null,
            "grid_column": null,
            "grid_gap": null,
            "grid_row": null,
            "grid_template_areas": null,
            "grid_template_columns": null,
            "grid_template_rows": null,
            "height": null,
            "justify_content": null,
            "justify_items": null,
            "left": null,
            "margin": null,
            "max_height": null,
            "max_width": null,
            "min_height": null,
            "min_width": null,
            "object_fit": null,
            "object_position": null,
            "order": null,
            "overflow": null,
            "overflow_x": null,
            "overflow_y": null,
            "padding": null,
            "right": null,
            "top": null,
            "visibility": null,
            "width": null
          }
        },
        "6d64bd3d8d934290877d41d85841f141": {
          "model_module": "@jupyter-widgets/controls",
          "model_name": "DescriptionStyleModel",
          "model_module_version": "1.5.0",
          "state": {
            "_model_module": "@jupyter-widgets/controls",
            "_model_module_version": "1.5.0",
            "_model_name": "DescriptionStyleModel",
            "_view_count": null,
            "_view_module": "@jupyter-widgets/base",
            "_view_module_version": "1.2.0",
            "_view_name": "StyleView",
            "description_width": ""
          }
        }
      }
    }
  },
  "cells": [
    {
      "cell_type": "code",
      "execution_count": 1,
      "metadata": {
        "colab": {
          "base_uri": "https://localhost:8080/"
        },
        "id": "jRiIYO86FZwj",
        "outputId": "aceaec07-5b81-42bc-cee1-a8913a27f395"
      },
      "outputs": [
        {
          "output_type": "stream",
          "name": "stdout",
          "text": [
            "\u001b[2K     \u001b[90m━━━━━━━━━━━━━━━━━━━━━━━━━━━━━━━━━━━━━━━━\u001b[0m \u001b[32m510.5/510.5 kB\u001b[0m \u001b[31m4.6 MB/s\u001b[0m eta \u001b[36m0:00:00\u001b[0m\n",
            "\u001b[2K     \u001b[90m━━━━━━━━━━━━━━━━━━━━━━━━━━━━━━━━━━━━━━━━\u001b[0m \u001b[32m116.3/116.3 kB\u001b[0m \u001b[31m4.8 MB/s\u001b[0m eta \u001b[36m0:00:00\u001b[0m\n",
            "\u001b[2K     \u001b[90m━━━━━━━━━━━━━━━━━━━━━━━━━━━━━━━━━━━━━━━━\u001b[0m \u001b[32m194.1/194.1 kB\u001b[0m \u001b[31m6.9 MB/s\u001b[0m eta \u001b[36m0:00:00\u001b[0m\n",
            "\u001b[2K     \u001b[90m━━━━━━━━━━━━━━━━━━━━━━━━━━━━━━━━━━━━━━━━\u001b[0m \u001b[32m134.8/134.8 kB\u001b[0m \u001b[31m6.0 MB/s\u001b[0m eta \u001b[36m0:00:00\u001b[0m\n",
            "\u001b[2K     \u001b[90m━━━━━━━━━━━━━━━━━━━━━━━━━━━━━━━━━━━━━━━━\u001b[0m \u001b[32m297.4/297.4 kB\u001b[0m \u001b[31m4.5 MB/s\u001b[0m eta \u001b[36m0:00:00\u001b[0m\n",
            "\u001b[2K     \u001b[90m━━━━━━━━━━━━━━━━━━━━━━━━━━━━━━━━━━━━━━━━\u001b[0m \u001b[32m2.2/2.2 MB\u001b[0m \u001b[31m11.6 MB/s\u001b[0m eta \u001b[36m0:00:00\u001b[0m\n",
            "\u001b[2K     \u001b[90m━━━━━━━━━━━━━━━━━━━━━━━━━━━━━━━━━━━━━━━━\u001b[0m \u001b[32m207.3/207.3 kB\u001b[0m \u001b[31m15.6 MB/s\u001b[0m eta \u001b[36m0:00:00\u001b[0m\n",
            "\u001b[2K     \u001b[90m━━━━━━━━━━━━━━━━━━━━━━━━━━━━━━━━━━━━━━━━\u001b[0m \u001b[32m267.1/267.1 kB\u001b[0m \u001b[31m13.5 MB/s\u001b[0m eta \u001b[36m0:00:00\u001b[0m\n",
            "\u001b[2K     \u001b[90m━━━━━━━━━━━━━━━━━━━━━━━━━━━━━━━━━━━━━━━━\u001b[0m \u001b[32m62.7/62.7 kB\u001b[0m \u001b[31m8.3 MB/s\u001b[0m eta \u001b[36m0:00:00\u001b[0m\n",
            "\u001b[?25h"
          ]
        }
      ],
      "source": [
        "!pip --q install datasets\n",
        "!pip --q install accelerate\n",
        "!pip --q install wandb"
      ]
    },
    {
      "cell_type": "code",
      "source": [
        "import warnings\n",
        "warnings.filterwarnings(\"ignore\")\n",
        "from IPython.display import Audio\n",
        "import numpy as np\n",
        "import torch\n",
        "import pandas as pd\n",
        "from datasets import DatasetDict,Dataset\n",
        "import soundfile as sf\n",
        "import os\n",
        "import matplotlib.pyplot as plt\n",
        "plt.style.use(\"seaborn-whitegrid\")\n"
      ],
      "metadata": {
        "id": "L0mwyL-EFh2F"
      },
      "execution_count": 2,
      "outputs": []
    },
    {
      "cell_type": "code",
      "source": [
        "from google.colab import drive\n",
        "drive.mount('/content/drive')"
      ],
      "metadata": {
        "colab": {
          "base_uri": "https://localhost:8080/"
        },
        "id": "W769XOa5Fhyl",
        "outputId": "d11ddc83-b0a4-4797-df64-07a2b931fc8f"
      },
      "execution_count": 3,
      "outputs": [
        {
          "output_type": "stream",
          "name": "stdout",
          "text": [
            "Mounted at /content/drive\n"
          ]
        }
      ]
    },
    {
      "cell_type": "code",
      "source": [
        "!git clone https://github.com/Mahmood-Anaam/VitsModelSplit.git"
      ],
      "metadata": {
        "colab": {
          "base_uri": "https://localhost:8080/"
        },
        "id": "5ZS8kVTJFhve",
        "outputId": "5e243c2f-d413-4bfe-ccc1-66b007c63c77"
      },
      "execution_count": 4,
      "outputs": [
        {
          "output_type": "stream",
          "name": "stdout",
          "text": [
            "Cloning into 'VitsModelSplit'...\n",
            "remote: Enumerating objects: 166, done.\u001b[K\n",
            "remote: Counting objects: 100% (166/166), done.\u001b[K\n",
            "remote: Compressing objects: 100% (107/107), done.\u001b[K\n",
            "remote: Total 166 (delta 99), reused 120 (delta 56), pack-reused 0\u001b[K\n",
            "Receiving objects: 100% (166/166), 20.97 MiB | 25.30 MiB/s, done.\n",
            "Resolving deltas: 100% (99/99), done.\n"
          ]
        }
      ]
    },
    {
      "cell_type": "markdown",
      "source": [
        "\n",
        "\n",
        "---\n",
        "\n"
      ],
      "metadata": {
        "id": "Ed6KQi3bg4TS"
      }
    },
    {
      "cell_type": "code",
      "source": [
        "from VitsModelSplit.vits_model import VitsModel\n",
        "from VitsModelSplit.PosteriorDecoderModel import PosteriorDecoderModel\n",
        "from VitsModelSplit.feature_extraction import VitsFeatureExtractor\n",
        "\n",
        "from transformers import AutoTokenizer, HfArgumentParser, set_seed\n",
        "from VitsModelSplit.Arguments import DataTrainingArguments, ModelArguments, VITSTrainingArguments\n"
      ],
      "metadata": {
        "id": "-4aZETCsa3C4"
      },
      "execution_count": 5,
      "outputs": []
    },
    {
      "cell_type": "code",
      "source": [
        "model = VitsModel.from_pretrained(\"facebook/mms-tts-ara\",cache_dir=\"./\")\n",
        "tokenizer = AutoTokenizer.from_pretrained(\"facebook/mms-tts-ara\",cache_dir=\"./\")\n",
        "feature_extractor = VitsFeatureExtractor()"
      ],
      "metadata": {
        "colab": {
          "base_uri": "https://localhost:8080/",
          "height": 284,
          "referenced_widgets": [
            "eac0391227e441a99eee6c6d94a2927c",
            "82c40e5ef1d14858b42b0b7cadef35c6",
            "45667008630c4ace9a9cef11ff7b34eb",
            "ddd8efe18a934c3ea40f170adac7f4c2",
            "b89e359afea749b98a807c51aeccca72",
            "3aab57aa03c44f94bcd92d511cd8fcf6",
            "64f127b951354c13bfd21b54aa29654c",
            "ee219b6b41f7432abd3b791a7af6ad51",
            "ef790f2cc017476c9b5497258856b672",
            "857507240faf44ce9d071ba1d6c55d8e",
            "efa937a2594c444db4b14a07ca5ae9fe",
            "51a3af86fba046608b5b9bdbffac9464",
            "dd4bf04ede6d49ff9cd39aacd1cde25b",
            "13fc627da2084d8c930d2fddd48bc608",
            "62bd268733d94cfda95ba1acfc6970a9",
            "fbd21c8c164743439221ca0b0271b841",
            "d0268c0da4e94e21a951f39d9624fa11",
            "8fe6847420894a469b2baba1c344fdbb",
            "7b23ced4bc64484ebe8f807affb7f7cf",
            "55321eb2947544779e4a9ac2df0dfbf2",
            "58726356a0764fe886bf04982fdd91b9",
            "98059a1d555b45bc8190c188779ad2dc",
            "888b4bf9b9544e99a3a0d69a95fd6e20",
            "367b2a8d344846019586a8b9cb20f933",
            "53c324316fd5477e87fcad91b5276296",
            "317c9937d32841fb8868350117a033b8",
            "92ab245524a14ff7accde01b9e1f6b37",
            "6617dacb899e4bcf993d690b81b047ca",
            "9d2045c1948c4e879dd4d6f56460a946",
            "0326380ef5874cacbe5cb1b38eee655f",
            "e9bd9031086c4d4a94722da7712b31b3",
            "9f9e957c9a214df69cfed96524d96949",
            "26a97909bfe54cf59b01be61f55be95d",
            "ca5e436b1d8745a1a4d8f5c30c8f49c4",
            "71b8a2f21f994df7b9202fce231ce1ee",
            "e08ef90bd97d442e8353ea70d5b05e59",
            "b061c55d3e104186bdebb37129ee6ee0",
            "29991798eb3e4bdd879604369b45dae6",
            "1c68ff2d399943cdaa3f798a609a801c",
            "9a3f632980d049bc842e7950f3743e18",
            "4a627a1b247046e08b2d1964dff554ae",
            "4a3a207595034196a855fbb155e5b10a",
            "1a0103904823430a9559165beb087ced",
            "c0f126baa30f48889a57a162ad892c0e",
            "b3a0576bf84343ec951e698440f4e3ea",
            "99f5b358280d443b899ac310278b9100",
            "09909acaa4f94ec2b1aa26e93a9c91ac",
            "46ec3a4148274275ad62937de4df8fa6",
            "a3498ad9aff94710b19d7be0904b602c",
            "4cada97012d749749560191a490830cf",
            "4fb63d4b261742db931f81281cacd005",
            "61ca1e31b3844e3ba157756535afd51f",
            "5973aa85bf51494d96879439913d7626",
            "133c686333b9482ca72501cf2982cd80",
            "6d64bd3d8d934290877d41d85841f141"
          ]
        },
        "id": "W5cH1Yvyb6It",
        "outputId": "875cebd5-e4e7-4601-87f0-a3321806d8d4"
      },
      "execution_count": 6,
      "outputs": [
        {
          "output_type": "display_data",
          "data": {
            "text/plain": [
              "config.json:   0%|          | 0.00/1.64k [00:00<?, ?B/s]"
            ],
            "application/vnd.jupyter.widget-view+json": {
              "version_major": 2,
              "version_minor": 0,
              "model_id": "eac0391227e441a99eee6c6d94a2927c"
            }
          },
          "metadata": {}
        },
        {
          "output_type": "display_data",
          "data": {
            "text/plain": [
              "model.safetensors:   0%|          | 0.00/145M [00:00<?, ?B/s]"
            ],
            "application/vnd.jupyter.widget-view+json": {
              "version_major": 2,
              "version_minor": 0,
              "model_id": "51a3af86fba046608b5b9bdbffac9464"
            }
          },
          "metadata": {}
        },
        {
          "output_type": "stream",
          "name": "stderr",
          "text": [
            "Some weights of the model checkpoint at facebook/mms-tts-ara were not used when initializing VitsModel: ['flow.flows.0.wavenet.in_layers.0.weight_g', 'flow.flows.0.wavenet.in_layers.0.weight_v', 'flow.flows.0.wavenet.in_layers.1.weight_g', 'flow.flows.0.wavenet.in_layers.1.weight_v', 'flow.flows.0.wavenet.in_layers.2.weight_g', 'flow.flows.0.wavenet.in_layers.2.weight_v', 'flow.flows.0.wavenet.in_layers.3.weight_g', 'flow.flows.0.wavenet.in_layers.3.weight_v', 'flow.flows.0.wavenet.res_skip_layers.0.weight_g', 'flow.flows.0.wavenet.res_skip_layers.0.weight_v', 'flow.flows.0.wavenet.res_skip_layers.1.weight_g', 'flow.flows.0.wavenet.res_skip_layers.1.weight_v', 'flow.flows.0.wavenet.res_skip_layers.2.weight_g', 'flow.flows.0.wavenet.res_skip_layers.2.weight_v', 'flow.flows.0.wavenet.res_skip_layers.3.weight_g', 'flow.flows.0.wavenet.res_skip_layers.3.weight_v', 'flow.flows.1.wavenet.in_layers.0.weight_g', 'flow.flows.1.wavenet.in_layers.0.weight_v', 'flow.flows.1.wavenet.in_layers.1.weight_g', 'flow.flows.1.wavenet.in_layers.1.weight_v', 'flow.flows.1.wavenet.in_layers.2.weight_g', 'flow.flows.1.wavenet.in_layers.2.weight_v', 'flow.flows.1.wavenet.in_layers.3.weight_g', 'flow.flows.1.wavenet.in_layers.3.weight_v', 'flow.flows.1.wavenet.res_skip_layers.0.weight_g', 'flow.flows.1.wavenet.res_skip_layers.0.weight_v', 'flow.flows.1.wavenet.res_skip_layers.1.weight_g', 'flow.flows.1.wavenet.res_skip_layers.1.weight_v', 'flow.flows.1.wavenet.res_skip_layers.2.weight_g', 'flow.flows.1.wavenet.res_skip_layers.2.weight_v', 'flow.flows.1.wavenet.res_skip_layers.3.weight_g', 'flow.flows.1.wavenet.res_skip_layers.3.weight_v', 'flow.flows.2.wavenet.in_layers.0.weight_g', 'flow.flows.2.wavenet.in_layers.0.weight_v', 'flow.flows.2.wavenet.in_layers.1.weight_g', 'flow.flows.2.wavenet.in_layers.1.weight_v', 'flow.flows.2.wavenet.in_layers.2.weight_g', 'flow.flows.2.wavenet.in_layers.2.weight_v', 'flow.flows.2.wavenet.in_layers.3.weight_g', 'flow.flows.2.wavenet.in_layers.3.weight_v', 'flow.flows.2.wavenet.res_skip_layers.0.weight_g', 'flow.flows.2.wavenet.res_skip_layers.0.weight_v', 'flow.flows.2.wavenet.res_skip_layers.1.weight_g', 'flow.flows.2.wavenet.res_skip_layers.1.weight_v', 'flow.flows.2.wavenet.res_skip_layers.2.weight_g', 'flow.flows.2.wavenet.res_skip_layers.2.weight_v', 'flow.flows.2.wavenet.res_skip_layers.3.weight_g', 'flow.flows.2.wavenet.res_skip_layers.3.weight_v', 'flow.flows.3.wavenet.in_layers.0.weight_g', 'flow.flows.3.wavenet.in_layers.0.weight_v', 'flow.flows.3.wavenet.in_layers.1.weight_g', 'flow.flows.3.wavenet.in_layers.1.weight_v', 'flow.flows.3.wavenet.in_layers.2.weight_g', 'flow.flows.3.wavenet.in_layers.2.weight_v', 'flow.flows.3.wavenet.in_layers.3.weight_g', 'flow.flows.3.wavenet.in_layers.3.weight_v', 'flow.flows.3.wavenet.res_skip_layers.0.weight_g', 'flow.flows.3.wavenet.res_skip_layers.0.weight_v', 'flow.flows.3.wavenet.res_skip_layers.1.weight_g', 'flow.flows.3.wavenet.res_skip_layers.1.weight_v', 'flow.flows.3.wavenet.res_skip_layers.2.weight_g', 'flow.flows.3.wavenet.res_skip_layers.2.weight_v', 'flow.flows.3.wavenet.res_skip_layers.3.weight_g', 'flow.flows.3.wavenet.res_skip_layers.3.weight_v', 'posterior_encoder.wavenet.in_layers.0.weight_g', 'posterior_encoder.wavenet.in_layers.0.weight_v', 'posterior_encoder.wavenet.in_layers.1.weight_g', 'posterior_encoder.wavenet.in_layers.1.weight_v', 'posterior_encoder.wavenet.in_layers.10.weight_g', 'posterior_encoder.wavenet.in_layers.10.weight_v', 'posterior_encoder.wavenet.in_layers.11.weight_g', 'posterior_encoder.wavenet.in_layers.11.weight_v', 'posterior_encoder.wavenet.in_layers.12.weight_g', 'posterior_encoder.wavenet.in_layers.12.weight_v', 'posterior_encoder.wavenet.in_layers.13.weight_g', 'posterior_encoder.wavenet.in_layers.13.weight_v', 'posterior_encoder.wavenet.in_layers.14.weight_g', 'posterior_encoder.wavenet.in_layers.14.weight_v', 'posterior_encoder.wavenet.in_layers.15.weight_g', 'posterior_encoder.wavenet.in_layers.15.weight_v', 'posterior_encoder.wavenet.in_layers.2.weight_g', 'posterior_encoder.wavenet.in_layers.2.weight_v', 'posterior_encoder.wavenet.in_layers.3.weight_g', 'posterior_encoder.wavenet.in_layers.3.weight_v', 'posterior_encoder.wavenet.in_layers.4.weight_g', 'posterior_encoder.wavenet.in_layers.4.weight_v', 'posterior_encoder.wavenet.in_layers.5.weight_g', 'posterior_encoder.wavenet.in_layers.5.weight_v', 'posterior_encoder.wavenet.in_layers.6.weight_g', 'posterior_encoder.wavenet.in_layers.6.weight_v', 'posterior_encoder.wavenet.in_layers.7.weight_g', 'posterior_encoder.wavenet.in_layers.7.weight_v', 'posterior_encoder.wavenet.in_layers.8.weight_g', 'posterior_encoder.wavenet.in_layers.8.weight_v', 'posterior_encoder.wavenet.in_layers.9.weight_g', 'posterior_encoder.wavenet.in_layers.9.weight_v', 'posterior_encoder.wavenet.res_skip_layers.0.weight_g', 'posterior_encoder.wavenet.res_skip_layers.0.weight_v', 'posterior_encoder.wavenet.res_skip_layers.1.weight_g', 'posterior_encoder.wavenet.res_skip_layers.1.weight_v', 'posterior_encoder.wavenet.res_skip_layers.10.weight_g', 'posterior_encoder.wavenet.res_skip_layers.10.weight_v', 'posterior_encoder.wavenet.res_skip_layers.11.weight_g', 'posterior_encoder.wavenet.res_skip_layers.11.weight_v', 'posterior_encoder.wavenet.res_skip_layers.12.weight_g', 'posterior_encoder.wavenet.res_skip_layers.12.weight_v', 'posterior_encoder.wavenet.res_skip_layers.13.weight_g', 'posterior_encoder.wavenet.res_skip_layers.13.weight_v', 'posterior_encoder.wavenet.res_skip_layers.14.weight_g', 'posterior_encoder.wavenet.res_skip_layers.14.weight_v', 'posterior_encoder.wavenet.res_skip_layers.15.weight_g', 'posterior_encoder.wavenet.res_skip_layers.15.weight_v', 'posterior_encoder.wavenet.res_skip_layers.2.weight_g', 'posterior_encoder.wavenet.res_skip_layers.2.weight_v', 'posterior_encoder.wavenet.res_skip_layers.3.weight_g', 'posterior_encoder.wavenet.res_skip_layers.3.weight_v', 'posterior_encoder.wavenet.res_skip_layers.4.weight_g', 'posterior_encoder.wavenet.res_skip_layers.4.weight_v', 'posterior_encoder.wavenet.res_skip_layers.5.weight_g', 'posterior_encoder.wavenet.res_skip_layers.5.weight_v', 'posterior_encoder.wavenet.res_skip_layers.6.weight_g', 'posterior_encoder.wavenet.res_skip_layers.6.weight_v', 'posterior_encoder.wavenet.res_skip_layers.7.weight_g', 'posterior_encoder.wavenet.res_skip_layers.7.weight_v', 'posterior_encoder.wavenet.res_skip_layers.8.weight_g', 'posterior_encoder.wavenet.res_skip_layers.8.weight_v', 'posterior_encoder.wavenet.res_skip_layers.9.weight_g', 'posterior_encoder.wavenet.res_skip_layers.9.weight_v']\n",
            "- This IS expected if you are initializing VitsModel from the checkpoint of a model trained on another task or with another architecture (e.g. initializing a BertForSequenceClassification model from a BertForPreTraining model).\n",
            "- This IS NOT expected if you are initializing VitsModel from the checkpoint of a model that you expect to be exactly identical (initializing a BertForSequenceClassification model from a BertForSequenceClassification model).\n",
            "Some weights of VitsModel were not initialized from the model checkpoint at facebook/mms-tts-ara and are newly initialized: ['discriminator.discriminators.0.convs.0.bias', 'discriminator.discriminators.0.convs.0.weight', 'discriminator.discriminators.0.convs.1.bias', 'discriminator.discriminators.0.convs.1.weight', 'discriminator.discriminators.0.convs.2.bias', 'discriminator.discriminators.0.convs.2.weight', 'discriminator.discriminators.0.convs.3.bias', 'discriminator.discriminators.0.convs.3.weight', 'discriminator.discriminators.0.convs.4.bias', 'discriminator.discriminators.0.convs.4.weight', 'discriminator.discriminators.0.convs.5.bias', 'discriminator.discriminators.0.convs.5.weight', 'discriminator.discriminators.0.final_conv.bias', 'discriminator.discriminators.0.final_conv.weight', 'discriminator.discriminators.1.convs.0.bias', 'discriminator.discriminators.1.convs.0.weight', 'discriminator.discriminators.1.convs.1.bias', 'discriminator.discriminators.1.convs.1.weight', 'discriminator.discriminators.1.convs.2.bias', 'discriminator.discriminators.1.convs.2.weight', 'discriminator.discriminators.1.convs.3.bias', 'discriminator.discriminators.1.convs.3.weight', 'discriminator.discriminators.1.convs.4.bias', 'discriminator.discriminators.1.convs.4.weight', 'discriminator.discriminators.1.final_conv.bias', 'discriminator.discriminators.1.final_conv.weight', 'discriminator.discriminators.2.convs.0.bias', 'discriminator.discriminators.2.convs.0.weight', 'discriminator.discriminators.2.convs.1.bias', 'discriminator.discriminators.2.convs.1.weight', 'discriminator.discriminators.2.convs.2.bias', 'discriminator.discriminators.2.convs.2.weight', 'discriminator.discriminators.2.convs.3.bias', 'discriminator.discriminators.2.convs.3.weight', 'discriminator.discriminators.2.convs.4.bias', 'discriminator.discriminators.2.convs.4.weight', 'discriminator.discriminators.2.final_conv.bias', 'discriminator.discriminators.2.final_conv.weight', 'discriminator.discriminators.3.convs.0.bias', 'discriminator.discriminators.3.convs.0.weight', 'discriminator.discriminators.3.convs.1.bias', 'discriminator.discriminators.3.convs.1.weight', 'discriminator.discriminators.3.convs.2.bias', 'discriminator.discriminators.3.convs.2.weight', 'discriminator.discriminators.3.convs.3.bias', 'discriminator.discriminators.3.convs.3.weight', 'discriminator.discriminators.3.convs.4.bias', 'discriminator.discriminators.3.convs.4.weight', 'discriminator.discriminators.3.final_conv.bias', 'discriminator.discriminators.3.final_conv.weight', 'discriminator.discriminators.4.convs.0.bias', 'discriminator.discriminators.4.convs.0.weight', 'discriminator.discriminators.4.convs.1.bias', 'discriminator.discriminators.4.convs.1.weight', 'discriminator.discriminators.4.convs.2.bias', 'discriminator.discriminators.4.convs.2.weight', 'discriminator.discriminators.4.convs.3.bias', 'discriminator.discriminators.4.convs.3.weight', 'discriminator.discriminators.4.convs.4.bias', 'discriminator.discriminators.4.convs.4.weight', 'discriminator.discriminators.4.final_conv.bias', 'discriminator.discriminators.4.final_conv.weight', 'discriminator.discriminators.5.convs.0.bias', 'discriminator.discriminators.5.convs.0.weight', 'discriminator.discriminators.5.convs.1.bias', 'discriminator.discriminators.5.convs.1.weight', 'discriminator.discriminators.5.convs.2.bias', 'discriminator.discriminators.5.convs.2.weight', 'discriminator.discriminators.5.convs.3.bias', 'discriminator.discriminators.5.convs.3.weight', 'discriminator.discriminators.5.convs.4.bias', 'discriminator.discriminators.5.convs.4.weight', 'discriminator.discriminators.5.final_conv.bias', 'discriminator.discriminators.5.final_conv.weight', 'flow.flows.0.wavenet.in_layers.0.parametrizations.weight.original0', 'flow.flows.0.wavenet.in_layers.0.parametrizations.weight.original1', 'flow.flows.0.wavenet.in_layers.1.parametrizations.weight.original0', 'flow.flows.0.wavenet.in_layers.1.parametrizations.weight.original1', 'flow.flows.0.wavenet.in_layers.2.parametrizations.weight.original0', 'flow.flows.0.wavenet.in_layers.2.parametrizations.weight.original1', 'flow.flows.0.wavenet.in_layers.3.parametrizations.weight.original0', 'flow.flows.0.wavenet.in_layers.3.parametrizations.weight.original1', 'flow.flows.0.wavenet.res_skip_layers.0.parametrizations.weight.original0', 'flow.flows.0.wavenet.res_skip_layers.0.parametrizations.weight.original1', 'flow.flows.0.wavenet.res_skip_layers.1.parametrizations.weight.original0', 'flow.flows.0.wavenet.res_skip_layers.1.parametrizations.weight.original1', 'flow.flows.0.wavenet.res_skip_layers.2.parametrizations.weight.original0', 'flow.flows.0.wavenet.res_skip_layers.2.parametrizations.weight.original1', 'flow.flows.0.wavenet.res_skip_layers.3.parametrizations.weight.original0', 'flow.flows.0.wavenet.res_skip_layers.3.parametrizations.weight.original1', 'flow.flows.1.wavenet.in_layers.0.parametrizations.weight.original0', 'flow.flows.1.wavenet.in_layers.0.parametrizations.weight.original1', 'flow.flows.1.wavenet.in_layers.1.parametrizations.weight.original0', 'flow.flows.1.wavenet.in_layers.1.parametrizations.weight.original1', 'flow.flows.1.wavenet.in_layers.2.parametrizations.weight.original0', 'flow.flows.1.wavenet.in_layers.2.parametrizations.weight.original1', 'flow.flows.1.wavenet.in_layers.3.parametrizations.weight.original0', 'flow.flows.1.wavenet.in_layers.3.parametrizations.weight.original1', 'flow.flows.1.wavenet.res_skip_layers.0.parametrizations.weight.original0', 'flow.flows.1.wavenet.res_skip_layers.0.parametrizations.weight.original1', 'flow.flows.1.wavenet.res_skip_layers.1.parametrizations.weight.original0', 'flow.flows.1.wavenet.res_skip_layers.1.parametrizations.weight.original1', 'flow.flows.1.wavenet.res_skip_layers.2.parametrizations.weight.original0', 'flow.flows.1.wavenet.res_skip_layers.2.parametrizations.weight.original1', 'flow.flows.1.wavenet.res_skip_layers.3.parametrizations.weight.original0', 'flow.flows.1.wavenet.res_skip_layers.3.parametrizations.weight.original1', 'flow.flows.2.wavenet.in_layers.0.parametrizations.weight.original0', 'flow.flows.2.wavenet.in_layers.0.parametrizations.weight.original1', 'flow.flows.2.wavenet.in_layers.1.parametrizations.weight.original0', 'flow.flows.2.wavenet.in_layers.1.parametrizations.weight.original1', 'flow.flows.2.wavenet.in_layers.2.parametrizations.weight.original0', 'flow.flows.2.wavenet.in_layers.2.parametrizations.weight.original1', 'flow.flows.2.wavenet.in_layers.3.parametrizations.weight.original0', 'flow.flows.2.wavenet.in_layers.3.parametrizations.weight.original1', 'flow.flows.2.wavenet.res_skip_layers.0.parametrizations.weight.original0', 'flow.flows.2.wavenet.res_skip_layers.0.parametrizations.weight.original1', 'flow.flows.2.wavenet.res_skip_layers.1.parametrizations.weight.original0', 'flow.flows.2.wavenet.res_skip_layers.1.parametrizations.weight.original1', 'flow.flows.2.wavenet.res_skip_layers.2.parametrizations.weight.original0', 'flow.flows.2.wavenet.res_skip_layers.2.parametrizations.weight.original1', 'flow.flows.2.wavenet.res_skip_layers.3.parametrizations.weight.original0', 'flow.flows.2.wavenet.res_skip_layers.3.parametrizations.weight.original1', 'flow.flows.3.wavenet.in_layers.0.parametrizations.weight.original0', 'flow.flows.3.wavenet.in_layers.0.parametrizations.weight.original1', 'flow.flows.3.wavenet.in_layers.1.parametrizations.weight.original0', 'flow.flows.3.wavenet.in_layers.1.parametrizations.weight.original1', 'flow.flows.3.wavenet.in_layers.2.parametrizations.weight.original0', 'flow.flows.3.wavenet.in_layers.2.parametrizations.weight.original1', 'flow.flows.3.wavenet.in_layers.3.parametrizations.weight.original0', 'flow.flows.3.wavenet.in_layers.3.parametrizations.weight.original1', 'flow.flows.3.wavenet.res_skip_layers.0.parametrizations.weight.original0', 'flow.flows.3.wavenet.res_skip_layers.0.parametrizations.weight.original1', 'flow.flows.3.wavenet.res_skip_layers.1.parametrizations.weight.original0', 'flow.flows.3.wavenet.res_skip_layers.1.parametrizations.weight.original1', 'flow.flows.3.wavenet.res_skip_layers.2.parametrizations.weight.original0', 'flow.flows.3.wavenet.res_skip_layers.2.parametrizations.weight.original1', 'flow.flows.3.wavenet.res_skip_layers.3.parametrizations.weight.original0', 'flow.flows.3.wavenet.res_skip_layers.3.parametrizations.weight.original1', 'posterior_encoder.wavenet.in_layers.0.parametrizations.weight.original0', 'posterior_encoder.wavenet.in_layers.0.parametrizations.weight.original1', 'posterior_encoder.wavenet.in_layers.1.parametrizations.weight.original0', 'posterior_encoder.wavenet.in_layers.1.parametrizations.weight.original1', 'posterior_encoder.wavenet.in_layers.10.parametrizations.weight.original0', 'posterior_encoder.wavenet.in_layers.10.parametrizations.weight.original1', 'posterior_encoder.wavenet.in_layers.11.parametrizations.weight.original0', 'posterior_encoder.wavenet.in_layers.11.parametrizations.weight.original1', 'posterior_encoder.wavenet.in_layers.12.parametrizations.weight.original0', 'posterior_encoder.wavenet.in_layers.12.parametrizations.weight.original1', 'posterior_encoder.wavenet.in_layers.13.parametrizations.weight.original0', 'posterior_encoder.wavenet.in_layers.13.parametrizations.weight.original1', 'posterior_encoder.wavenet.in_layers.14.parametrizations.weight.original0', 'posterior_encoder.wavenet.in_layers.14.parametrizations.weight.original1', 'posterior_encoder.wavenet.in_layers.15.parametrizations.weight.original0', 'posterior_encoder.wavenet.in_layers.15.parametrizations.weight.original1', 'posterior_encoder.wavenet.in_layers.2.parametrizations.weight.original0', 'posterior_encoder.wavenet.in_layers.2.parametrizations.weight.original1', 'posterior_encoder.wavenet.in_layers.3.parametrizations.weight.original0', 'posterior_encoder.wavenet.in_layers.3.parametrizations.weight.original1', 'posterior_encoder.wavenet.in_layers.4.parametrizations.weight.original0', 'posterior_encoder.wavenet.in_layers.4.parametrizations.weight.original1', 'posterior_encoder.wavenet.in_layers.5.parametrizations.weight.original0', 'posterior_encoder.wavenet.in_layers.5.parametrizations.weight.original1', 'posterior_encoder.wavenet.in_layers.6.parametrizations.weight.original0', 'posterior_encoder.wavenet.in_layers.6.parametrizations.weight.original1', 'posterior_encoder.wavenet.in_layers.7.parametrizations.weight.original0', 'posterior_encoder.wavenet.in_layers.7.parametrizations.weight.original1', 'posterior_encoder.wavenet.in_layers.8.parametrizations.weight.original0', 'posterior_encoder.wavenet.in_layers.8.parametrizations.weight.original1', 'posterior_encoder.wavenet.in_layers.9.parametrizations.weight.original0', 'posterior_encoder.wavenet.in_layers.9.parametrizations.weight.original1', 'posterior_encoder.wavenet.res_skip_layers.0.parametrizations.weight.original0', 'posterior_encoder.wavenet.res_skip_layers.0.parametrizations.weight.original1', 'posterior_encoder.wavenet.res_skip_layers.1.parametrizations.weight.original0', 'posterior_encoder.wavenet.res_skip_layers.1.parametrizations.weight.original1', 'posterior_encoder.wavenet.res_skip_layers.10.parametrizations.weight.original0', 'posterior_encoder.wavenet.res_skip_layers.10.parametrizations.weight.original1', 'posterior_encoder.wavenet.res_skip_layers.11.parametrizations.weight.original0', 'posterior_encoder.wavenet.res_skip_layers.11.parametrizations.weight.original1', 'posterior_encoder.wavenet.res_skip_layers.12.parametrizations.weight.original0', 'posterior_encoder.wavenet.res_skip_layers.12.parametrizations.weight.original1', 'posterior_encoder.wavenet.res_skip_layers.13.parametrizations.weight.original0', 'posterior_encoder.wavenet.res_skip_layers.13.parametrizations.weight.original1', 'posterior_encoder.wavenet.res_skip_layers.14.parametrizations.weight.original0', 'posterior_encoder.wavenet.res_skip_layers.14.parametrizations.weight.original1', 'posterior_encoder.wavenet.res_skip_layers.15.parametrizations.weight.original0', 'posterior_encoder.wavenet.res_skip_layers.15.parametrizations.weight.original1', 'posterior_encoder.wavenet.res_skip_layers.2.parametrizations.weight.original0', 'posterior_encoder.wavenet.res_skip_layers.2.parametrizations.weight.original1', 'posterior_encoder.wavenet.res_skip_layers.3.parametrizations.weight.original0', 'posterior_encoder.wavenet.res_skip_layers.3.parametrizations.weight.original1', 'posterior_encoder.wavenet.res_skip_layers.4.parametrizations.weight.original0', 'posterior_encoder.wavenet.res_skip_layers.4.parametrizations.weight.original1', 'posterior_encoder.wavenet.res_skip_layers.5.parametrizations.weight.original0', 'posterior_encoder.wavenet.res_skip_layers.5.parametrizations.weight.original1', 'posterior_encoder.wavenet.res_skip_layers.6.parametrizations.weight.original0', 'posterior_encoder.wavenet.res_skip_layers.6.parametrizations.weight.original1', 'posterior_encoder.wavenet.res_skip_layers.7.parametrizations.weight.original0', 'posterior_encoder.wavenet.res_skip_layers.7.parametrizations.weight.original1', 'posterior_encoder.wavenet.res_skip_layers.8.parametrizations.weight.original0', 'posterior_encoder.wavenet.res_skip_layers.8.parametrizations.weight.original1', 'posterior_encoder.wavenet.res_skip_layers.9.parametrizations.weight.original0', 'posterior_encoder.wavenet.res_skip_layers.9.parametrizations.weight.original1']\n",
            "You should probably TRAIN this model on a down-stream task to be able to use it for predictions and inference.\n"
          ]
        },
        {
          "output_type": "display_data",
          "data": {
            "text/plain": [
              "tokenizer_config.json:   0%|          | 0.00/288 [00:00<?, ?B/s]"
            ],
            "application/vnd.jupyter.widget-view+json": {
              "version_major": 2,
              "version_minor": 0,
              "model_id": "888b4bf9b9544e99a3a0d69a95fd6e20"
            }
          },
          "metadata": {}
        },
        {
          "output_type": "display_data",
          "data": {
            "text/plain": [
              "vocab.json:   0%|          | 0.00/460 [00:00<?, ?B/s]"
            ],
            "application/vnd.jupyter.widget-view+json": {
              "version_major": 2,
              "version_minor": 0,
              "model_id": "ca5e436b1d8745a1a4d8f5c30c8f49c4"
            }
          },
          "metadata": {}
        },
        {
          "output_type": "display_data",
          "data": {
            "text/plain": [
              "special_tokens_map.json:   0%|          | 0.00/48.0 [00:00<?, ?B/s]"
            ],
            "application/vnd.jupyter.widget-view+json": {
              "version_major": 2,
              "version_minor": 0,
              "model_id": "b3a0576bf84343ec951e698440f4e3ea"
            }
          },
          "metadata": {}
        }
      ]
    },
    {
      "cell_type": "code",
      "source": [
        "parser = HfArgumentParser((ModelArguments, DataTrainingArguments, VITSTrainingArguments))\n",
        "json_file = os.path.abspath('/content/VitsModelSplit/finetune_config_ara.json')\n",
        "model_args, data_args, training_args = parser.parse_json_file(json_file = json_file)"
      ],
      "metadata": {
        "id": "g3K81LXKb6FQ"
      },
      "execution_count": 7,
      "outputs": []
    },
    {
      "cell_type": "markdown",
      "source": [
        "\n",
        "\n",
        "---\n",
        "\n"
      ],
      "metadata": {
        "id": "LPO7yR8tgxNi"
      }
    },
    {
      "cell_type": "code",
      "source": [
        "posterior_decoder_model = PosteriorDecoderModel(config = model.config,\n",
        "                                                posterior_encoder = model.posterior_encoder,\n",
        "                                                decoder = model.decoder\n",
        "                                                )\n",
        "posterior_decoder_model.train()\n",
        "posterior_decoder_model"
      ],
      "metadata": {
        "colab": {
          "base_uri": "https://localhost:8080/"
        },
        "id": "whAdGATHb6B9",
        "outputId": "1bf56b73-d69d-4ae5-9d24-d0bf217d40fc"
      },
      "execution_count": 8,
      "outputs": [
        {
          "output_type": "execute_result",
          "data": {
            "text/plain": [
              "PosteriorDecoderModel(\n",
              "  (posterior_encoder): VitsPosteriorEncoder(\n",
              "    (conv_pre): Conv1d(513, 192, kernel_size=(1,), stride=(1,))\n",
              "    (wavenet): VitsWaveNet(\n",
              "      (in_layers): ModuleList(\n",
              "        (0-15): 16 x ParametrizedConv1d(\n",
              "          192, 384, kernel_size=(5,), stride=(1,), padding=(2,)\n",
              "          (parametrizations): ModuleDict(\n",
              "            (weight): ParametrizationList(\n",
              "              (0): _WeightNorm()\n",
              "            )\n",
              "          )\n",
              "        )\n",
              "      )\n",
              "      (res_skip_layers): ModuleList(\n",
              "        (0-14): 15 x ParametrizedConv1d(\n",
              "          192, 384, kernel_size=(1,), stride=(1,)\n",
              "          (parametrizations): ModuleDict(\n",
              "            (weight): ParametrizationList(\n",
              "              (0): _WeightNorm()\n",
              "            )\n",
              "          )\n",
              "        )\n",
              "        (15): ParametrizedConv1d(\n",
              "          192, 192, kernel_size=(1,), stride=(1,)\n",
              "          (parametrizations): ModuleDict(\n",
              "            (weight): ParametrizationList(\n",
              "              (0): _WeightNorm()\n",
              "            )\n",
              "          )\n",
              "        )\n",
              "      )\n",
              "      (dropout): Dropout(p=0.0, inplace=False)\n",
              "    )\n",
              "    (conv_proj): Conv1d(192, 384, kernel_size=(1,), stride=(1,))\n",
              "  )\n",
              "  (decoder): VitsHifiGan(\n",
              "    (conv_pre): Conv1d(192, 512, kernel_size=(7,), stride=(1,), padding=(3,))\n",
              "    (upsampler): ModuleList(\n",
              "      (0): ConvTranspose1d(512, 256, kernel_size=(16,), stride=(8,), padding=(4,))\n",
              "      (1): ConvTranspose1d(256, 128, kernel_size=(16,), stride=(8,), padding=(4,))\n",
              "      (2): ConvTranspose1d(128, 64, kernel_size=(4,), stride=(2,), padding=(1,))\n",
              "      (3): ConvTranspose1d(64, 32, kernel_size=(4,), stride=(2,), padding=(1,))\n",
              "    )\n",
              "    (resblocks): ModuleList(\n",
              "      (0): HifiGanResidualBlock(\n",
              "        (convs1): ModuleList(\n",
              "          (0): Conv1d(256, 256, kernel_size=(3,), stride=(1,), padding=(1,))\n",
              "          (1): Conv1d(256, 256, kernel_size=(3,), stride=(1,), padding=(3,), dilation=(3,))\n",
              "          (2): Conv1d(256, 256, kernel_size=(3,), stride=(1,), padding=(5,), dilation=(5,))\n",
              "        )\n",
              "        (convs2): ModuleList(\n",
              "          (0-2): 3 x Conv1d(256, 256, kernel_size=(3,), stride=(1,), padding=(1,))\n",
              "        )\n",
              "      )\n",
              "      (1): HifiGanResidualBlock(\n",
              "        (convs1): ModuleList(\n",
              "          (0): Conv1d(256, 256, kernel_size=(7,), stride=(1,), padding=(3,))\n",
              "          (1): Conv1d(256, 256, kernel_size=(7,), stride=(1,), padding=(9,), dilation=(3,))\n",
              "          (2): Conv1d(256, 256, kernel_size=(7,), stride=(1,), padding=(15,), dilation=(5,))\n",
              "        )\n",
              "        (convs2): ModuleList(\n",
              "          (0-2): 3 x Conv1d(256, 256, kernel_size=(7,), stride=(1,), padding=(3,))\n",
              "        )\n",
              "      )\n",
              "      (2): HifiGanResidualBlock(\n",
              "        (convs1): ModuleList(\n",
              "          (0): Conv1d(256, 256, kernel_size=(11,), stride=(1,), padding=(5,))\n",
              "          (1): Conv1d(256, 256, kernel_size=(11,), stride=(1,), padding=(15,), dilation=(3,))\n",
              "          (2): Conv1d(256, 256, kernel_size=(11,), stride=(1,), padding=(25,), dilation=(5,))\n",
              "        )\n",
              "        (convs2): ModuleList(\n",
              "          (0-2): 3 x Conv1d(256, 256, kernel_size=(11,), stride=(1,), padding=(5,))\n",
              "        )\n",
              "      )\n",
              "      (3): HifiGanResidualBlock(\n",
              "        (convs1): ModuleList(\n",
              "          (0): Conv1d(128, 128, kernel_size=(3,), stride=(1,), padding=(1,))\n",
              "          (1): Conv1d(128, 128, kernel_size=(3,), stride=(1,), padding=(3,), dilation=(3,))\n",
              "          (2): Conv1d(128, 128, kernel_size=(3,), stride=(1,), padding=(5,), dilation=(5,))\n",
              "        )\n",
              "        (convs2): ModuleList(\n",
              "          (0-2): 3 x Conv1d(128, 128, kernel_size=(3,), stride=(1,), padding=(1,))\n",
              "        )\n",
              "      )\n",
              "      (4): HifiGanResidualBlock(\n",
              "        (convs1): ModuleList(\n",
              "          (0): Conv1d(128, 128, kernel_size=(7,), stride=(1,), padding=(3,))\n",
              "          (1): Conv1d(128, 128, kernel_size=(7,), stride=(1,), padding=(9,), dilation=(3,))\n",
              "          (2): Conv1d(128, 128, kernel_size=(7,), stride=(1,), padding=(15,), dilation=(5,))\n",
              "        )\n",
              "        (convs2): ModuleList(\n",
              "          (0-2): 3 x Conv1d(128, 128, kernel_size=(7,), stride=(1,), padding=(3,))\n",
              "        )\n",
              "      )\n",
              "      (5): HifiGanResidualBlock(\n",
              "        (convs1): ModuleList(\n",
              "          (0): Conv1d(128, 128, kernel_size=(11,), stride=(1,), padding=(5,))\n",
              "          (1): Conv1d(128, 128, kernel_size=(11,), stride=(1,), padding=(15,), dilation=(3,))\n",
              "          (2): Conv1d(128, 128, kernel_size=(11,), stride=(1,), padding=(25,), dilation=(5,))\n",
              "        )\n",
              "        (convs2): ModuleList(\n",
              "          (0-2): 3 x Conv1d(128, 128, kernel_size=(11,), stride=(1,), padding=(5,))\n",
              "        )\n",
              "      )\n",
              "      (6): HifiGanResidualBlock(\n",
              "        (convs1): ModuleList(\n",
              "          (0): Conv1d(64, 64, kernel_size=(3,), stride=(1,), padding=(1,))\n",
              "          (1): Conv1d(64, 64, kernel_size=(3,), stride=(1,), padding=(3,), dilation=(3,))\n",
              "          (2): Conv1d(64, 64, kernel_size=(3,), stride=(1,), padding=(5,), dilation=(5,))\n",
              "        )\n",
              "        (convs2): ModuleList(\n",
              "          (0-2): 3 x Conv1d(64, 64, kernel_size=(3,), stride=(1,), padding=(1,))\n",
              "        )\n",
              "      )\n",
              "      (7): HifiGanResidualBlock(\n",
              "        (convs1): ModuleList(\n",
              "          (0): Conv1d(64, 64, kernel_size=(7,), stride=(1,), padding=(3,))\n",
              "          (1): Conv1d(64, 64, kernel_size=(7,), stride=(1,), padding=(9,), dilation=(3,))\n",
              "          (2): Conv1d(64, 64, kernel_size=(7,), stride=(1,), padding=(15,), dilation=(5,))\n",
              "        )\n",
              "        (convs2): ModuleList(\n",
              "          (0-2): 3 x Conv1d(64, 64, kernel_size=(7,), stride=(1,), padding=(3,))\n",
              "        )\n",
              "      )\n",
              "      (8): HifiGanResidualBlock(\n",
              "        (convs1): ModuleList(\n",
              "          (0): Conv1d(64, 64, kernel_size=(11,), stride=(1,), padding=(5,))\n",
              "          (1): Conv1d(64, 64, kernel_size=(11,), stride=(1,), padding=(15,), dilation=(3,))\n",
              "          (2): Conv1d(64, 64, kernel_size=(11,), stride=(1,), padding=(25,), dilation=(5,))\n",
              "        )\n",
              "        (convs2): ModuleList(\n",
              "          (0-2): 3 x Conv1d(64, 64, kernel_size=(11,), stride=(1,), padding=(5,))\n",
              "        )\n",
              "      )\n",
              "      (9): HifiGanResidualBlock(\n",
              "        (convs1): ModuleList(\n",
              "          (0): Conv1d(32, 32, kernel_size=(3,), stride=(1,), padding=(1,))\n",
              "          (1): Conv1d(32, 32, kernel_size=(3,), stride=(1,), padding=(3,), dilation=(3,))\n",
              "          (2): Conv1d(32, 32, kernel_size=(3,), stride=(1,), padding=(5,), dilation=(5,))\n",
              "        )\n",
              "        (convs2): ModuleList(\n",
              "          (0-2): 3 x Conv1d(32, 32, kernel_size=(3,), stride=(1,), padding=(1,))\n",
              "        )\n",
              "      )\n",
              "      (10): HifiGanResidualBlock(\n",
              "        (convs1): ModuleList(\n",
              "          (0): Conv1d(32, 32, kernel_size=(7,), stride=(1,), padding=(3,))\n",
              "          (1): Conv1d(32, 32, kernel_size=(7,), stride=(1,), padding=(9,), dilation=(3,))\n",
              "          (2): Conv1d(32, 32, kernel_size=(7,), stride=(1,), padding=(15,), dilation=(5,))\n",
              "        )\n",
              "        (convs2): ModuleList(\n",
              "          (0-2): 3 x Conv1d(32, 32, kernel_size=(7,), stride=(1,), padding=(3,))\n",
              "        )\n",
              "      )\n",
              "      (11): HifiGanResidualBlock(\n",
              "        (convs1): ModuleList(\n",
              "          (0): Conv1d(32, 32, kernel_size=(11,), stride=(1,), padding=(5,))\n",
              "          (1): Conv1d(32, 32, kernel_size=(11,), stride=(1,), padding=(15,), dilation=(3,))\n",
              "          (2): Conv1d(32, 32, kernel_size=(11,), stride=(1,), padding=(25,), dilation=(5,))\n",
              "        )\n",
              "        (convs2): ModuleList(\n",
              "          (0-2): 3 x Conv1d(32, 32, kernel_size=(11,), stride=(1,), padding=(5,))\n",
              "        )\n",
              "      )\n",
              "    )\n",
              "    (conv_post): Conv1d(32, 1, kernel_size=(7,), stride=(1,), padding=(3,), bias=False)\n",
              "  )\n",
              ")"
            ]
          },
          "metadata": {},
          "execution_count": 8
        }
      ]
    },
    {
      "cell_type": "code",
      "source": [
        "from  VitsModelSplit.dataset_features_collector import FeaturesCollectionDataset\n",
        "\n",
        "dataset_dir = '/content/drive/MyDrive/FeaturesCollectionDataset'\n",
        "full_generation_sample_index = 0\n",
        "full_generation_dataset = FeaturesCollectionDataset(dataset_dir = os.path.join(dataset_dir,'full_generation'))\n",
        "full_generation_sample = full_generation_dataset[full_generation_sample_index]\n",
        "\n",
        "set_seed(42)\n",
        "with torch.no_grad():\n",
        "  full_generation =model(\n",
        "      input_ids =full_generation_sample[\"input_ids\"],\n",
        "      attention_mask=full_generation_sample[\"attention_mask\"],\n",
        "      speaker_id=full_generation_sample[\"speaker_id\"]\n",
        "      )\n",
        "  full_generation_waveform = full_generation.waveform.numpy().reshape(-1)\n",
        "\n",
        "\n",
        "Audio(full_generation_waveform, rate=model.config.sampling_rate)"
      ],
      "metadata": {
        "colab": {
          "base_uri": "https://localhost:8080/",
          "height": 76
        },
        "id": "fxIQ0vITUujl",
        "outputId": "e8a3190e-511d-4ffc-9de0-7dc9b32f6207"
      },
      "execution_count": 9,
      "outputs": [
        {
          "output_type": "execute_result",
          "data": {
            "text/plain": [
              "<IPython.lib.display.Audio object>"
            ],
            "text/html": [
              "\n",
              "                <audio  controls=\"controls\" >\n",
              "                    <source src=\"data:audio/wav;base64,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\" type=\"audio/wav\" />\n",
              "                    Your browser does not support the audio element.\n",
              "                </audio>\n",
              "              "
            ]
          },
          "metadata": {},
          "execution_count": 9
        }
      ]
    },
    {
      "cell_type": "markdown",
      "source": [
        "\n",
        "\n",
        "---\n",
        "\n"
      ],
      "metadata": {
        "id": "Fx1HrDAdtOfX"
      }
    },
    {
      "cell_type": "code",
      "source": [
        "dataset_dir = '/content/drive/MyDrive/FeaturesCollectionDataset'\n",
        "\n",
        "posterior_decoder_model.trainer(\n",
        "                              train_dataset_dir = os.path.join(dataset_dir,'train'),\n",
        "                              eval_dataset_dir = os.path.join(dataset_dir,'eval'),\n",
        "                              full_generation_dir = os.path.join(dataset_dir,'full_generation'),\n",
        "                              feature_extractor = VitsFeatureExtractor(),\n",
        "                              training_args = training_args,\n",
        "                              full_generation_sample_index= 0,\n",
        "                              project_name = \"Posterior_Decoder_Finetuning\",\n",
        "                              wandbKey = \"782b6a6e82bbb5a5348de0d3c7d40d1e76351e79\",\n",
        "                              )"
      ],
      "metadata": {
        "colab": {
          "base_uri": "https://localhost:8080/",
          "height": 607
        },
        "id": "GmD2CSxbb5_G",
        "outputId": "ffbd675c-9bf8-4af8-fb10-db6a8157f76e"
      },
      "execution_count": 10,
      "outputs": [
        {
          "output_type": "stream",
          "name": "stderr",
          "text": [
            "\u001b[34m\u001b[1mwandb\u001b[0m: W&B API key is configured. Use \u001b[1m`wandb login --relogin`\u001b[0m to force relogin\n",
            "\u001b[34m\u001b[1mwandb\u001b[0m: \u001b[33mWARNING\u001b[0m If you're specifying your api key in code, ensure this code is not shared publicly.\n",
            "\u001b[34m\u001b[1mwandb\u001b[0m: \u001b[33mWARNING\u001b[0m Consider setting the WANDB_API_KEY environment variable, or running `wandb login` from the command line.\n",
            "\u001b[34m\u001b[1mwandb\u001b[0m: Appending key for api.wandb.ai to your netrc file: /root/.netrc\n",
            "\u001b[34m\u001b[1mwandb\u001b[0m: Currently logged in as: \u001b[33mmodelasg\u001b[0m. Use \u001b[1m`wandb login --relogin`\u001b[0m to force relogin\n"
          ]
        },
        {
          "output_type": "display_data",
          "data": {
            "text/plain": [
              "<IPython.core.display.HTML object>"
            ],
            "text/html": [
              "Tracking run with wandb version 0.16.6"
            ]
          },
          "metadata": {}
        },
        {
          "output_type": "display_data",
          "data": {
            "text/plain": [
              "<IPython.core.display.HTML object>"
            ],
            "text/html": [
              "Run data is saved locally in <code>/content/wandb/run-20240411_033317-1fo0pglm</code>"
            ]
          },
          "metadata": {}
        },
        {
          "output_type": "display_data",
          "data": {
            "text/plain": [
              "<IPython.core.display.HTML object>"
            ],
            "text/html": [
              "Syncing run <strong><a href='https://wandb.ai/modelasg/Posterior_Decoder_Finetuning/runs/1fo0pglm' target=\"_blank\">gentle-dragon-25</a></strong> to <a href='https://wandb.ai/modelasg/Posterior_Decoder_Finetuning' target=\"_blank\">Weights & Biases</a> (<a href='https://wandb.me/run' target=\"_blank\">docs</a>)<br/>"
            ]
          },
          "metadata": {}
        },
        {
          "output_type": "display_data",
          "data": {
            "text/plain": [
              "<IPython.core.display.HTML object>"
            ],
            "text/html": [
              " View project at <a href='https://wandb.ai/modelasg/Posterior_Decoder_Finetuning' target=\"_blank\">https://wandb.ai/modelasg/Posterior_Decoder_Finetuning</a>"
            ]
          },
          "metadata": {}
        },
        {
          "output_type": "display_data",
          "data": {
            "text/plain": [
              "<IPython.core.display.HTML object>"
            ],
            "text/html": [
              " View run at <a href='https://wandb.ai/modelasg/Posterior_Decoder_Finetuning/runs/1fo0pglm' target=\"_blank\">https://wandb.ai/modelasg/Posterior_Decoder_Finetuning/runs/1fo0pglm</a>"
            ]
          },
          "metadata": {}
        },
        {
          "output_type": "stream",
          "name": "stdout",
          "text": [
            "TRAINIG - batch 0, waveform torch.Size([10, 83040, 1]), step_loss_mel 0.6283440589904785, lr 1.99975e-05... \n",
            "TRAINIG - batch 1, waveform torch.Size([10, 135680, 1]), step_loss_mel 0.6494752764701843, lr 1.99975e-05... \n",
            "TRAINIG - batch 2, waveform torch.Size([10, 52036, 1]), step_loss_mel 0.6461055874824524, lr 1.99975e-05... \n",
            "TRAINIG - batch 3, waveform torch.Size([10, 62720, 1]), step_loss_mel 0.5772804021835327, lr 1.99975e-05... \n",
            "TRAINIG - batch 4, waveform torch.Size([6, 46560, 1]), step_loss_mel 0.6477117538452148, lr 1.99975e-05... \n",
            "VALIDATION - batch 0, waveform torch.Size([10, 67200, 1]), step_loss_mel 0.6477117538452148 ... \n",
            "VALIDATION - batch 1, waveform torch.Size([4, 67520, 1]), step_loss_mel 0.5747188329696655 ... \n",
            "TRAINIG - batch 5, waveform torch.Size([10, 138560, 1]), step_loss_mel 0.5918751358985901, lr 1.99975e-05... \n",
            "TRAINIG - batch 0, waveform torch.Size([10, 83040, 1]), step_loss_mel 0.5546226501464844, lr 1.99950003125e-05... \n",
            "TRAINIG - batch 1, waveform torch.Size([10, 135680, 1]), step_loss_mel 0.5856809020042419, lr 1.99950003125e-05... \n",
            "TRAINIG - batch 2, waveform torch.Size([10, 52036, 1]), step_loss_mel 0.5916953086853027, lr 1.99950003125e-05... \n",
            "TRAINIG - batch 3, waveform torch.Size([10, 62720, 1]), step_loss_mel 0.5707828998565674, lr 1.99950003125e-05... \n",
            "VALIDATION - batch 0, waveform torch.Size([10, 67200, 1]), step_loss_mel 0.5707828998565674 ... \n",
            "VALIDATION - batch 1, waveform torch.Size([4, 67520, 1]), step_loss_mel 0.5912371277809143 ... \n",
            "TRAINIG - batch 4, waveform torch.Size([6, 46560, 1]), step_loss_mel 0.5765572786331177, lr 1.99950003125e-05... \n",
            "TRAINIG - batch 5, waveform torch.Size([10, 138560, 1]), step_loss_mel 0.5534473061561584, lr 1.99950003125e-05... \n",
            "TRAINIG - batch 0, waveform torch.Size([10, 83040, 1]), step_loss_mel 0.5429945588111877, lr 1.9992500937460937e-05... \n",
            "TRAINIG - batch 1, waveform torch.Size([10, 135680, 1]), step_loss_mel 0.5512351989746094, lr 1.9992500937460937e-05... \n",
            "TRAINIG - batch 2, waveform torch.Size([10, 52036, 1]), step_loss_mel 0.5699723958969116, lr 1.9992500937460937e-05... \n",
            "VALIDATION - batch 0, waveform torch.Size([10, 67200, 1]), step_loss_mel 0.5699723958969116 ... \n",
            "VALIDATION - batch 1, waveform torch.Size([4, 67520, 1]), step_loss_mel 0.5864882469177246 ... \n",
            "TRAINIG - batch 3, waveform torch.Size([10, 62720, 1]), step_loss_mel 0.5551315546035767, lr 1.9992500937460937e-05... \n",
            "TRAINIG - batch 4, waveform torch.Size([6, 46560, 1]), step_loss_mel 0.5773655772209167, lr 1.9992500937460937e-05... \n",
            "TRAINIG - batch 5, waveform torch.Size([10, 138560, 1]), step_loss_mel 0.5770468711853027, lr 1.9992500937460937e-05... \n"
          ]
        }
      ]
    },
    {
      "cell_type": "markdown",
      "source": [
        "\n",
        "\n",
        "---\n",
        "\n"
      ],
      "metadata": {
        "id": "Ei01IXslBLEQ"
      }
    },
    {
      "cell_type": "code",
      "source": [
        "model_new = VitsModel.from_pretrained(\"facebook/mms-tts-ara\",cache_dir=\"./\")\n",
        "model_new.posterior_encoder = posterior_decoder_model.posterior_encoder\n",
        "model_new.decoder = posterior_decoder_model.decoder"
      ],
      "metadata": {
        "id": "XfKRl6eLBKCU",
        "colab": {
          "base_uri": "https://localhost:8080/"
        },
        "outputId": "b5e79fad-e9d4-4098-a602-95490b987b3c"
      },
      "execution_count": 11,
      "outputs": [
        {
          "output_type": "stream",
          "name": "stderr",
          "text": [
            "Some weights of the model checkpoint at facebook/mms-tts-ara were not used when initializing VitsModel: ['flow.flows.0.wavenet.in_layers.0.weight_g', 'flow.flows.0.wavenet.in_layers.0.weight_v', 'flow.flows.0.wavenet.in_layers.1.weight_g', 'flow.flows.0.wavenet.in_layers.1.weight_v', 'flow.flows.0.wavenet.in_layers.2.weight_g', 'flow.flows.0.wavenet.in_layers.2.weight_v', 'flow.flows.0.wavenet.in_layers.3.weight_g', 'flow.flows.0.wavenet.in_layers.3.weight_v', 'flow.flows.0.wavenet.res_skip_layers.0.weight_g', 'flow.flows.0.wavenet.res_skip_layers.0.weight_v', 'flow.flows.0.wavenet.res_skip_layers.1.weight_g', 'flow.flows.0.wavenet.res_skip_layers.1.weight_v', 'flow.flows.0.wavenet.res_skip_layers.2.weight_g', 'flow.flows.0.wavenet.res_skip_layers.2.weight_v', 'flow.flows.0.wavenet.res_skip_layers.3.weight_g', 'flow.flows.0.wavenet.res_skip_layers.3.weight_v', 'flow.flows.1.wavenet.in_layers.0.weight_g', 'flow.flows.1.wavenet.in_layers.0.weight_v', 'flow.flows.1.wavenet.in_layers.1.weight_g', 'flow.flows.1.wavenet.in_layers.1.weight_v', 'flow.flows.1.wavenet.in_layers.2.weight_g', 'flow.flows.1.wavenet.in_layers.2.weight_v', 'flow.flows.1.wavenet.in_layers.3.weight_g', 'flow.flows.1.wavenet.in_layers.3.weight_v', 'flow.flows.1.wavenet.res_skip_layers.0.weight_g', 'flow.flows.1.wavenet.res_skip_layers.0.weight_v', 'flow.flows.1.wavenet.res_skip_layers.1.weight_g', 'flow.flows.1.wavenet.res_skip_layers.1.weight_v', 'flow.flows.1.wavenet.res_skip_layers.2.weight_g', 'flow.flows.1.wavenet.res_skip_layers.2.weight_v', 'flow.flows.1.wavenet.res_skip_layers.3.weight_g', 'flow.flows.1.wavenet.res_skip_layers.3.weight_v', 'flow.flows.2.wavenet.in_layers.0.weight_g', 'flow.flows.2.wavenet.in_layers.0.weight_v', 'flow.flows.2.wavenet.in_layers.1.weight_g', 'flow.flows.2.wavenet.in_layers.1.weight_v', 'flow.flows.2.wavenet.in_layers.2.weight_g', 'flow.flows.2.wavenet.in_layers.2.weight_v', 'flow.flows.2.wavenet.in_layers.3.weight_g', 'flow.flows.2.wavenet.in_layers.3.weight_v', 'flow.flows.2.wavenet.res_skip_layers.0.weight_g', 'flow.flows.2.wavenet.res_skip_layers.0.weight_v', 'flow.flows.2.wavenet.res_skip_layers.1.weight_g', 'flow.flows.2.wavenet.res_skip_layers.1.weight_v', 'flow.flows.2.wavenet.res_skip_layers.2.weight_g', 'flow.flows.2.wavenet.res_skip_layers.2.weight_v', 'flow.flows.2.wavenet.res_skip_layers.3.weight_g', 'flow.flows.2.wavenet.res_skip_layers.3.weight_v', 'flow.flows.3.wavenet.in_layers.0.weight_g', 'flow.flows.3.wavenet.in_layers.0.weight_v', 'flow.flows.3.wavenet.in_layers.1.weight_g', 'flow.flows.3.wavenet.in_layers.1.weight_v', 'flow.flows.3.wavenet.in_layers.2.weight_g', 'flow.flows.3.wavenet.in_layers.2.weight_v', 'flow.flows.3.wavenet.in_layers.3.weight_g', 'flow.flows.3.wavenet.in_layers.3.weight_v', 'flow.flows.3.wavenet.res_skip_layers.0.weight_g', 'flow.flows.3.wavenet.res_skip_layers.0.weight_v', 'flow.flows.3.wavenet.res_skip_layers.1.weight_g', 'flow.flows.3.wavenet.res_skip_layers.1.weight_v', 'flow.flows.3.wavenet.res_skip_layers.2.weight_g', 'flow.flows.3.wavenet.res_skip_layers.2.weight_v', 'flow.flows.3.wavenet.res_skip_layers.3.weight_g', 'flow.flows.3.wavenet.res_skip_layers.3.weight_v', 'posterior_encoder.wavenet.in_layers.0.weight_g', 'posterior_encoder.wavenet.in_layers.0.weight_v', 'posterior_encoder.wavenet.in_layers.1.weight_g', 'posterior_encoder.wavenet.in_layers.1.weight_v', 'posterior_encoder.wavenet.in_layers.10.weight_g', 'posterior_encoder.wavenet.in_layers.10.weight_v', 'posterior_encoder.wavenet.in_layers.11.weight_g', 'posterior_encoder.wavenet.in_layers.11.weight_v', 'posterior_encoder.wavenet.in_layers.12.weight_g', 'posterior_encoder.wavenet.in_layers.12.weight_v', 'posterior_encoder.wavenet.in_layers.13.weight_g', 'posterior_encoder.wavenet.in_layers.13.weight_v', 'posterior_encoder.wavenet.in_layers.14.weight_g', 'posterior_encoder.wavenet.in_layers.14.weight_v', 'posterior_encoder.wavenet.in_layers.15.weight_g', 'posterior_encoder.wavenet.in_layers.15.weight_v', 'posterior_encoder.wavenet.in_layers.2.weight_g', 'posterior_encoder.wavenet.in_layers.2.weight_v', 'posterior_encoder.wavenet.in_layers.3.weight_g', 'posterior_encoder.wavenet.in_layers.3.weight_v', 'posterior_encoder.wavenet.in_layers.4.weight_g', 'posterior_encoder.wavenet.in_layers.4.weight_v', 'posterior_encoder.wavenet.in_layers.5.weight_g', 'posterior_encoder.wavenet.in_layers.5.weight_v', 'posterior_encoder.wavenet.in_layers.6.weight_g', 'posterior_encoder.wavenet.in_layers.6.weight_v', 'posterior_encoder.wavenet.in_layers.7.weight_g', 'posterior_encoder.wavenet.in_layers.7.weight_v', 'posterior_encoder.wavenet.in_layers.8.weight_g', 'posterior_encoder.wavenet.in_layers.8.weight_v', 'posterior_encoder.wavenet.in_layers.9.weight_g', 'posterior_encoder.wavenet.in_layers.9.weight_v', 'posterior_encoder.wavenet.res_skip_layers.0.weight_g', 'posterior_encoder.wavenet.res_skip_layers.0.weight_v', 'posterior_encoder.wavenet.res_skip_layers.1.weight_g', 'posterior_encoder.wavenet.res_skip_layers.1.weight_v', 'posterior_encoder.wavenet.res_skip_layers.10.weight_g', 'posterior_encoder.wavenet.res_skip_layers.10.weight_v', 'posterior_encoder.wavenet.res_skip_layers.11.weight_g', 'posterior_encoder.wavenet.res_skip_layers.11.weight_v', 'posterior_encoder.wavenet.res_skip_layers.12.weight_g', 'posterior_encoder.wavenet.res_skip_layers.12.weight_v', 'posterior_encoder.wavenet.res_skip_layers.13.weight_g', 'posterior_encoder.wavenet.res_skip_layers.13.weight_v', 'posterior_encoder.wavenet.res_skip_layers.14.weight_g', 'posterior_encoder.wavenet.res_skip_layers.14.weight_v', 'posterior_encoder.wavenet.res_skip_layers.15.weight_g', 'posterior_encoder.wavenet.res_skip_layers.15.weight_v', 'posterior_encoder.wavenet.res_skip_layers.2.weight_g', 'posterior_encoder.wavenet.res_skip_layers.2.weight_v', 'posterior_encoder.wavenet.res_skip_layers.3.weight_g', 'posterior_encoder.wavenet.res_skip_layers.3.weight_v', 'posterior_encoder.wavenet.res_skip_layers.4.weight_g', 'posterior_encoder.wavenet.res_skip_layers.4.weight_v', 'posterior_encoder.wavenet.res_skip_layers.5.weight_g', 'posterior_encoder.wavenet.res_skip_layers.5.weight_v', 'posterior_encoder.wavenet.res_skip_layers.6.weight_g', 'posterior_encoder.wavenet.res_skip_layers.6.weight_v', 'posterior_encoder.wavenet.res_skip_layers.7.weight_g', 'posterior_encoder.wavenet.res_skip_layers.7.weight_v', 'posterior_encoder.wavenet.res_skip_layers.8.weight_g', 'posterior_encoder.wavenet.res_skip_layers.8.weight_v', 'posterior_encoder.wavenet.res_skip_layers.9.weight_g', 'posterior_encoder.wavenet.res_skip_layers.9.weight_v']\n",
            "- This IS expected if you are initializing VitsModel from the checkpoint of a model trained on another task or with another architecture (e.g. initializing a BertForSequenceClassification model from a BertForPreTraining model).\n",
            "- This IS NOT expected if you are initializing VitsModel from the checkpoint of a model that you expect to be exactly identical (initializing a BertForSequenceClassification model from a BertForSequenceClassification model).\n",
            "Some weights of VitsModel were not initialized from the model checkpoint at facebook/mms-tts-ara and are newly initialized: ['discriminator.discriminators.0.convs.0.bias', 'discriminator.discriminators.0.convs.0.weight', 'discriminator.discriminators.0.convs.1.bias', 'discriminator.discriminators.0.convs.1.weight', 'discriminator.discriminators.0.convs.2.bias', 'discriminator.discriminators.0.convs.2.weight', 'discriminator.discriminators.0.convs.3.bias', 'discriminator.discriminators.0.convs.3.weight', 'discriminator.discriminators.0.convs.4.bias', 'discriminator.discriminators.0.convs.4.weight', 'discriminator.discriminators.0.convs.5.bias', 'discriminator.discriminators.0.convs.5.weight', 'discriminator.discriminators.0.final_conv.bias', 'discriminator.discriminators.0.final_conv.weight', 'discriminator.discriminators.1.convs.0.bias', 'discriminator.discriminators.1.convs.0.weight', 'discriminator.discriminators.1.convs.1.bias', 'discriminator.discriminators.1.convs.1.weight', 'discriminator.discriminators.1.convs.2.bias', 'discriminator.discriminators.1.convs.2.weight', 'discriminator.discriminators.1.convs.3.bias', 'discriminator.discriminators.1.convs.3.weight', 'discriminator.discriminators.1.convs.4.bias', 'discriminator.discriminators.1.convs.4.weight', 'discriminator.discriminators.1.final_conv.bias', 'discriminator.discriminators.1.final_conv.weight', 'discriminator.discriminators.2.convs.0.bias', 'discriminator.discriminators.2.convs.0.weight', 'discriminator.discriminators.2.convs.1.bias', 'discriminator.discriminators.2.convs.1.weight', 'discriminator.discriminators.2.convs.2.bias', 'discriminator.discriminators.2.convs.2.weight', 'discriminator.discriminators.2.convs.3.bias', 'discriminator.discriminators.2.convs.3.weight', 'discriminator.discriminators.2.convs.4.bias', 'discriminator.discriminators.2.convs.4.weight', 'discriminator.discriminators.2.final_conv.bias', 'discriminator.discriminators.2.final_conv.weight', 'discriminator.discriminators.3.convs.0.bias', 'discriminator.discriminators.3.convs.0.weight', 'discriminator.discriminators.3.convs.1.bias', 'discriminator.discriminators.3.convs.1.weight', 'discriminator.discriminators.3.convs.2.bias', 'discriminator.discriminators.3.convs.2.weight', 'discriminator.discriminators.3.convs.3.bias', 'discriminator.discriminators.3.convs.3.weight', 'discriminator.discriminators.3.convs.4.bias', 'discriminator.discriminators.3.convs.4.weight', 'discriminator.discriminators.3.final_conv.bias', 'discriminator.discriminators.3.final_conv.weight', 'discriminator.discriminators.4.convs.0.bias', 'discriminator.discriminators.4.convs.0.weight', 'discriminator.discriminators.4.convs.1.bias', 'discriminator.discriminators.4.convs.1.weight', 'discriminator.discriminators.4.convs.2.bias', 'discriminator.discriminators.4.convs.2.weight', 'discriminator.discriminators.4.convs.3.bias', 'discriminator.discriminators.4.convs.3.weight', 'discriminator.discriminators.4.convs.4.bias', 'discriminator.discriminators.4.convs.4.weight', 'discriminator.discriminators.4.final_conv.bias', 'discriminator.discriminators.4.final_conv.weight', 'discriminator.discriminators.5.convs.0.bias', 'discriminator.discriminators.5.convs.0.weight', 'discriminator.discriminators.5.convs.1.bias', 'discriminator.discriminators.5.convs.1.weight', 'discriminator.discriminators.5.convs.2.bias', 'discriminator.discriminators.5.convs.2.weight', 'discriminator.discriminators.5.convs.3.bias', 'discriminator.discriminators.5.convs.3.weight', 'discriminator.discriminators.5.convs.4.bias', 'discriminator.discriminators.5.convs.4.weight', 'discriminator.discriminators.5.final_conv.bias', 'discriminator.discriminators.5.final_conv.weight', 'flow.flows.0.wavenet.in_layers.0.parametrizations.weight.original0', 'flow.flows.0.wavenet.in_layers.0.parametrizations.weight.original1', 'flow.flows.0.wavenet.in_layers.1.parametrizations.weight.original0', 'flow.flows.0.wavenet.in_layers.1.parametrizations.weight.original1', 'flow.flows.0.wavenet.in_layers.2.parametrizations.weight.original0', 'flow.flows.0.wavenet.in_layers.2.parametrizations.weight.original1', 'flow.flows.0.wavenet.in_layers.3.parametrizations.weight.original0', 'flow.flows.0.wavenet.in_layers.3.parametrizations.weight.original1', 'flow.flows.0.wavenet.res_skip_layers.0.parametrizations.weight.original0', 'flow.flows.0.wavenet.res_skip_layers.0.parametrizations.weight.original1', 'flow.flows.0.wavenet.res_skip_layers.1.parametrizations.weight.original0', 'flow.flows.0.wavenet.res_skip_layers.1.parametrizations.weight.original1', 'flow.flows.0.wavenet.res_skip_layers.2.parametrizations.weight.original0', 'flow.flows.0.wavenet.res_skip_layers.2.parametrizations.weight.original1', 'flow.flows.0.wavenet.res_skip_layers.3.parametrizations.weight.original0', 'flow.flows.0.wavenet.res_skip_layers.3.parametrizations.weight.original1', 'flow.flows.1.wavenet.in_layers.0.parametrizations.weight.original0', 'flow.flows.1.wavenet.in_layers.0.parametrizations.weight.original1', 'flow.flows.1.wavenet.in_layers.1.parametrizations.weight.original0', 'flow.flows.1.wavenet.in_layers.1.parametrizations.weight.original1', 'flow.flows.1.wavenet.in_layers.2.parametrizations.weight.original0', 'flow.flows.1.wavenet.in_layers.2.parametrizations.weight.original1', 'flow.flows.1.wavenet.in_layers.3.parametrizations.weight.original0', 'flow.flows.1.wavenet.in_layers.3.parametrizations.weight.original1', 'flow.flows.1.wavenet.res_skip_layers.0.parametrizations.weight.original0', 'flow.flows.1.wavenet.res_skip_layers.0.parametrizations.weight.original1', 'flow.flows.1.wavenet.res_skip_layers.1.parametrizations.weight.original0', 'flow.flows.1.wavenet.res_skip_layers.1.parametrizations.weight.original1', 'flow.flows.1.wavenet.res_skip_layers.2.parametrizations.weight.original0', 'flow.flows.1.wavenet.res_skip_layers.2.parametrizations.weight.original1', 'flow.flows.1.wavenet.res_skip_layers.3.parametrizations.weight.original0', 'flow.flows.1.wavenet.res_skip_layers.3.parametrizations.weight.original1', 'flow.flows.2.wavenet.in_layers.0.parametrizations.weight.original0', 'flow.flows.2.wavenet.in_layers.0.parametrizations.weight.original1', 'flow.flows.2.wavenet.in_layers.1.parametrizations.weight.original0', 'flow.flows.2.wavenet.in_layers.1.parametrizations.weight.original1', 'flow.flows.2.wavenet.in_layers.2.parametrizations.weight.original0', 'flow.flows.2.wavenet.in_layers.2.parametrizations.weight.original1', 'flow.flows.2.wavenet.in_layers.3.parametrizations.weight.original0', 'flow.flows.2.wavenet.in_layers.3.parametrizations.weight.original1', 'flow.flows.2.wavenet.res_skip_layers.0.parametrizations.weight.original0', 'flow.flows.2.wavenet.res_skip_layers.0.parametrizations.weight.original1', 'flow.flows.2.wavenet.res_skip_layers.1.parametrizations.weight.original0', 'flow.flows.2.wavenet.res_skip_layers.1.parametrizations.weight.original1', 'flow.flows.2.wavenet.res_skip_layers.2.parametrizations.weight.original0', 'flow.flows.2.wavenet.res_skip_layers.2.parametrizations.weight.original1', 'flow.flows.2.wavenet.res_skip_layers.3.parametrizations.weight.original0', 'flow.flows.2.wavenet.res_skip_layers.3.parametrizations.weight.original1', 'flow.flows.3.wavenet.in_layers.0.parametrizations.weight.original0', 'flow.flows.3.wavenet.in_layers.0.parametrizations.weight.original1', 'flow.flows.3.wavenet.in_layers.1.parametrizations.weight.original0', 'flow.flows.3.wavenet.in_layers.1.parametrizations.weight.original1', 'flow.flows.3.wavenet.in_layers.2.parametrizations.weight.original0', 'flow.flows.3.wavenet.in_layers.2.parametrizations.weight.original1', 'flow.flows.3.wavenet.in_layers.3.parametrizations.weight.original0', 'flow.flows.3.wavenet.in_layers.3.parametrizations.weight.original1', 'flow.flows.3.wavenet.res_skip_layers.0.parametrizations.weight.original0', 'flow.flows.3.wavenet.res_skip_layers.0.parametrizations.weight.original1', 'flow.flows.3.wavenet.res_skip_layers.1.parametrizations.weight.original0', 'flow.flows.3.wavenet.res_skip_layers.1.parametrizations.weight.original1', 'flow.flows.3.wavenet.res_skip_layers.2.parametrizations.weight.original0', 'flow.flows.3.wavenet.res_skip_layers.2.parametrizations.weight.original1', 'flow.flows.3.wavenet.res_skip_layers.3.parametrizations.weight.original0', 'flow.flows.3.wavenet.res_skip_layers.3.parametrizations.weight.original1', 'posterior_encoder.wavenet.in_layers.0.parametrizations.weight.original0', 'posterior_encoder.wavenet.in_layers.0.parametrizations.weight.original1', 'posterior_encoder.wavenet.in_layers.1.parametrizations.weight.original0', 'posterior_encoder.wavenet.in_layers.1.parametrizations.weight.original1', 'posterior_encoder.wavenet.in_layers.10.parametrizations.weight.original0', 'posterior_encoder.wavenet.in_layers.10.parametrizations.weight.original1', 'posterior_encoder.wavenet.in_layers.11.parametrizations.weight.original0', 'posterior_encoder.wavenet.in_layers.11.parametrizations.weight.original1', 'posterior_encoder.wavenet.in_layers.12.parametrizations.weight.original0', 'posterior_encoder.wavenet.in_layers.12.parametrizations.weight.original1', 'posterior_encoder.wavenet.in_layers.13.parametrizations.weight.original0', 'posterior_encoder.wavenet.in_layers.13.parametrizations.weight.original1', 'posterior_encoder.wavenet.in_layers.14.parametrizations.weight.original0', 'posterior_encoder.wavenet.in_layers.14.parametrizations.weight.original1', 'posterior_encoder.wavenet.in_layers.15.parametrizations.weight.original0', 'posterior_encoder.wavenet.in_layers.15.parametrizations.weight.original1', 'posterior_encoder.wavenet.in_layers.2.parametrizations.weight.original0', 'posterior_encoder.wavenet.in_layers.2.parametrizations.weight.original1', 'posterior_encoder.wavenet.in_layers.3.parametrizations.weight.original0', 'posterior_encoder.wavenet.in_layers.3.parametrizations.weight.original1', 'posterior_encoder.wavenet.in_layers.4.parametrizations.weight.original0', 'posterior_encoder.wavenet.in_layers.4.parametrizations.weight.original1', 'posterior_encoder.wavenet.in_layers.5.parametrizations.weight.original0', 'posterior_encoder.wavenet.in_layers.5.parametrizations.weight.original1', 'posterior_encoder.wavenet.in_layers.6.parametrizations.weight.original0', 'posterior_encoder.wavenet.in_layers.6.parametrizations.weight.original1', 'posterior_encoder.wavenet.in_layers.7.parametrizations.weight.original0', 'posterior_encoder.wavenet.in_layers.7.parametrizations.weight.original1', 'posterior_encoder.wavenet.in_layers.8.parametrizations.weight.original0', 'posterior_encoder.wavenet.in_layers.8.parametrizations.weight.original1', 'posterior_encoder.wavenet.in_layers.9.parametrizations.weight.original0', 'posterior_encoder.wavenet.in_layers.9.parametrizations.weight.original1', 'posterior_encoder.wavenet.res_skip_layers.0.parametrizations.weight.original0', 'posterior_encoder.wavenet.res_skip_layers.0.parametrizations.weight.original1', 'posterior_encoder.wavenet.res_skip_layers.1.parametrizations.weight.original0', 'posterior_encoder.wavenet.res_skip_layers.1.parametrizations.weight.original1', 'posterior_encoder.wavenet.res_skip_layers.10.parametrizations.weight.original0', 'posterior_encoder.wavenet.res_skip_layers.10.parametrizations.weight.original1', 'posterior_encoder.wavenet.res_skip_layers.11.parametrizations.weight.original0', 'posterior_encoder.wavenet.res_skip_layers.11.parametrizations.weight.original1', 'posterior_encoder.wavenet.res_skip_layers.12.parametrizations.weight.original0', 'posterior_encoder.wavenet.res_skip_layers.12.parametrizations.weight.original1', 'posterior_encoder.wavenet.res_skip_layers.13.parametrizations.weight.original0', 'posterior_encoder.wavenet.res_skip_layers.13.parametrizations.weight.original1', 'posterior_encoder.wavenet.res_skip_layers.14.parametrizations.weight.original0', 'posterior_encoder.wavenet.res_skip_layers.14.parametrizations.weight.original1', 'posterior_encoder.wavenet.res_skip_layers.15.parametrizations.weight.original0', 'posterior_encoder.wavenet.res_skip_layers.15.parametrizations.weight.original1', 'posterior_encoder.wavenet.res_skip_layers.2.parametrizations.weight.original0', 'posterior_encoder.wavenet.res_skip_layers.2.parametrizations.weight.original1', 'posterior_encoder.wavenet.res_skip_layers.3.parametrizations.weight.original0', 'posterior_encoder.wavenet.res_skip_layers.3.parametrizations.weight.original1', 'posterior_encoder.wavenet.res_skip_layers.4.parametrizations.weight.original0', 'posterior_encoder.wavenet.res_skip_layers.4.parametrizations.weight.original1', 'posterior_encoder.wavenet.res_skip_layers.5.parametrizations.weight.original0', 'posterior_encoder.wavenet.res_skip_layers.5.parametrizations.weight.original1', 'posterior_encoder.wavenet.res_skip_layers.6.parametrizations.weight.original0', 'posterior_encoder.wavenet.res_skip_layers.6.parametrizations.weight.original1', 'posterior_encoder.wavenet.res_skip_layers.7.parametrizations.weight.original0', 'posterior_encoder.wavenet.res_skip_layers.7.parametrizations.weight.original1', 'posterior_encoder.wavenet.res_skip_layers.8.parametrizations.weight.original0', 'posterior_encoder.wavenet.res_skip_layers.8.parametrizations.weight.original1', 'posterior_encoder.wavenet.res_skip_layers.9.parametrizations.weight.original0', 'posterior_encoder.wavenet.res_skip_layers.9.parametrizations.weight.original1']\n",
            "You should probably TRAIN this model on a down-stream task to be able to use it for predictions and inference.\n"
          ]
        }
      ]
    },
    {
      "cell_type": "code",
      "source": [
        "from  VitsModelSplit.dataset_features_collector import FeaturesCollectionDataset\n",
        "\n",
        "dataset_dir = '/content/drive/MyDrive/FeaturesCollectionDataset'\n",
        "full_generation_sample_index = 0\n",
        "full_generation_dataset = FeaturesCollectionDataset(dataset_dir = os.path.join(dataset_dir,'full_generation'))\n",
        "full_generation_sample = full_generation_dataset[full_generation_sample_index]\n",
        "\n",
        "set_seed(42)\n",
        "with torch.no_grad():\n",
        "  full_generation =model_new(\n",
        "      input_ids =full_generation_sample[\"input_ids\"],\n",
        "      attention_mask=full_generation_sample[\"attention_mask\"],\n",
        "      speaker_id=full_generation_sample[\"speaker_id\"]\n",
        "      )\n",
        "  full_generation_waveform = full_generation.waveform.numpy().reshape(-1)\n",
        "\n",
        "\n",
        "Audio(full_generation_waveform, rate=model_new.config.sampling_rate)"
      ],
      "metadata": {
        "id": "I9YkPdvXCOnr",
        "colab": {
          "base_uri": "https://localhost:8080/",
          "height": 76
        },
        "outputId": "890966f9-06d8-49c7-991b-e9147354ea89"
      },
      "execution_count": 12,
      "outputs": [
        {
          "output_type": "execute_result",
          "data": {
            "text/plain": [
              "<IPython.lib.display.Audio object>"
            ],
            "text/html": [
              "\n",
              "                <audio  controls=\"controls\" >\n",
              "                    <source src=\"data:audio/wav;base64,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\" type=\"audio/wav\" />\n",
              "                    Your browser does not support the audio element.\n",
              "                </audio>\n",
              "              "
            ]
          },
          "metadata": {},
          "execution_count": 12
        }
      ]
    }
  ]
}